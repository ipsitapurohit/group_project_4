{
 "cells": [
  {
   "cell_type": "markdown",
   "id": "b36e8349",
   "metadata": {},
   "source": [
    "# Real Estate Stock Price Prediction - Data cleaning and preparation steps"
   ]
  },
  {
   "cell_type": "code",
   "execution_count": 14,
   "id": "810abf65",
   "metadata": {},
   "outputs": [],
   "source": [
    "# Import all necessary libraries for the project\n",
    "\n",
    "import pandas as pd\n",
    "import numpy as np\n",
    "from matplotlib import pyplot as plt\n",
    "%matplotlib inline\n",
    "import matplotlib\n",
    "matplotlib.rcParams[\"figure.figsize\"] = (20,10)"
   ]
  },
  {
   "cell_type": "code",
   "execution_count": 15,
   "id": "3aa97539",
   "metadata": {},
   "outputs": [],
   "source": [
    "# Read csv file and add in a dataframe\n",
    "re_df1 = pd.read_csv(r\"..\\source_data\\florida_real_estate_dataset.csv\")"
   ]
  },
  {
   "cell_type": "code",
   "execution_count": 16,
   "id": "d85bf089",
   "metadata": {},
   "outputs": [
    {
     "data": {
      "text/html": [
       "<div>\n",
       "<style scoped>\n",
       "    .dataframe tbody tr th:only-of-type {\n",
       "        vertical-align: middle;\n",
       "    }\n",
       "\n",
       "    .dataframe tbody tr th {\n",
       "        vertical-align: top;\n",
       "    }\n",
       "\n",
       "    .dataframe thead th {\n",
       "        text-align: right;\n",
       "    }\n",
       "</style>\n",
       "<table border=\"1\" class=\"dataframe\">\n",
       "  <thead>\n",
       "    <tr style=\"text-align: right;\">\n",
       "      <th></th>\n",
       "      <th>brokered_by</th>\n",
       "      <th>status</th>\n",
       "      <th>price</th>\n",
       "      <th>bed</th>\n",
       "      <th>bath</th>\n",
       "      <th>acre_lot</th>\n",
       "      <th>street</th>\n",
       "      <th>city</th>\n",
       "      <th>state</th>\n",
       "      <th>zip_code</th>\n",
       "      <th>house_size</th>\n",
       "      <th>prev_sold_date</th>\n",
       "    </tr>\n",
       "  </thead>\n",
       "  <tbody>\n",
       "    <tr>\n",
       "      <th>0</th>\n",
       "      <td>30750.0</td>\n",
       "      <td>for_sale</td>\n",
       "      <td>649000.0</td>\n",
       "      <td>5.0</td>\n",
       "      <td>4.0</td>\n",
       "      <td>0.33</td>\n",
       "      <td>1444806.0</td>\n",
       "      <td>Apopka</td>\n",
       "      <td>Florida</td>\n",
       "      <td>32703.0</td>\n",
       "      <td>3690.0</td>\n",
       "      <td>10/22/2020</td>\n",
       "    </tr>\n",
       "    <tr>\n",
       "      <th>1</th>\n",
       "      <td>36577.0</td>\n",
       "      <td>for_sale</td>\n",
       "      <td>395000.0</td>\n",
       "      <td>3.0</td>\n",
       "      <td>2.0</td>\n",
       "      <td>0.21</td>\n",
       "      <td>632930.0</td>\n",
       "      <td>Apopka</td>\n",
       "      <td>Florida</td>\n",
       "      <td>32703.0</td>\n",
       "      <td>2046.0</td>\n",
       "      <td>10/31/2013</td>\n",
       "    </tr>\n",
       "    <tr>\n",
       "      <th>2</th>\n",
       "      <td>16352.0</td>\n",
       "      <td>for_sale</td>\n",
       "      <td>418000.0</td>\n",
       "      <td>4.0</td>\n",
       "      <td>3.0</td>\n",
       "      <td>0.24</td>\n",
       "      <td>24767.0</td>\n",
       "      <td>Apopka</td>\n",
       "      <td>Florida</td>\n",
       "      <td>32703.0</td>\n",
       "      <td>2247.0</td>\n",
       "      <td>7/29/2015</td>\n",
       "    </tr>\n",
       "    <tr>\n",
       "      <th>3</th>\n",
       "      <td>30655.0</td>\n",
       "      <td>for_sale</td>\n",
       "      <td>57000.0</td>\n",
       "      <td>2.0</td>\n",
       "      <td>1.0</td>\n",
       "      <td>0.06</td>\n",
       "      <td>923773.0</td>\n",
       "      <td>Apopka</td>\n",
       "      <td>Florida</td>\n",
       "      <td>32703.0</td>\n",
       "      <td>568.0</td>\n",
       "      <td>6/14/2016</td>\n",
       "    </tr>\n",
       "    <tr>\n",
       "      <th>4</th>\n",
       "      <td>16352.0</td>\n",
       "      <td>for_sale</td>\n",
       "      <td>210000.0</td>\n",
       "      <td>3.0</td>\n",
       "      <td>2.0</td>\n",
       "      <td>0.29</td>\n",
       "      <td>713543.0</td>\n",
       "      <td>Apopka</td>\n",
       "      <td>Florida</td>\n",
       "      <td>32703.0</td>\n",
       "      <td>1188.0</td>\n",
       "      <td>5/16/2003</td>\n",
       "    </tr>\n",
       "  </tbody>\n",
       "</table>\n",
       "</div>"
      ],
      "text/plain": [
       "   brokered_by    status     price  bed  bath  acre_lot     street    city  \\\n",
       "0      30750.0  for_sale  649000.0  5.0   4.0      0.33  1444806.0  Apopka   \n",
       "1      36577.0  for_sale  395000.0  3.0   2.0      0.21   632930.0  Apopka   \n",
       "2      16352.0  for_sale  418000.0  4.0   3.0      0.24    24767.0  Apopka   \n",
       "3      30655.0  for_sale   57000.0  2.0   1.0      0.06   923773.0  Apopka   \n",
       "4      16352.0  for_sale  210000.0  3.0   2.0      0.29   713543.0  Apopka   \n",
       "\n",
       "     state  zip_code  house_size prev_sold_date  \n",
       "0  Florida   32703.0      3690.0     10/22/2020  \n",
       "1  Florida   32703.0      2046.0     10/31/2013  \n",
       "2  Florida   32703.0      2247.0      7/29/2015  \n",
       "3  Florida   32703.0       568.0      6/14/2016  \n",
       "4  Florida   32703.0      1188.0      5/16/2003  "
      ]
     },
     "execution_count": 16,
     "metadata": {},
     "output_type": "execute_result"
    }
   ],
   "source": [
    "# Display the first few records\n",
    "re_df1.head()"
   ]
  },
  {
   "cell_type": "code",
   "execution_count": 17,
   "id": "8068a5f6",
   "metadata": {},
   "outputs": [
    {
     "data": {
      "text/plain": [
       "(79146, 12)"
      ]
     },
     "execution_count": 17,
     "metadata": {},
     "output_type": "execute_result"
    }
   ],
   "source": [
    "# Display number of rows and columns\n",
    "re_df1.shape"
   ]
  },
  {
   "cell_type": "code",
   "execution_count": 21,
   "id": "22cc817c",
   "metadata": {},
   "outputs": [],
   "source": [
    "# Drop columns that are not needed for data analysis\n",
    "re_df2 = re_df1.drop(['brokered_by','status','street','state','prev_sold_date','acre_lot'], axis='columns')"
   ]
  },
  {
   "cell_type": "code",
   "execution_count": 22,
   "id": "489cad52",
   "metadata": {},
   "outputs": [
    {
     "data": {
      "text/html": [
       "<div>\n",
       "<style scoped>\n",
       "    .dataframe tbody tr th:only-of-type {\n",
       "        vertical-align: middle;\n",
       "    }\n",
       "\n",
       "    .dataframe tbody tr th {\n",
       "        vertical-align: top;\n",
       "    }\n",
       "\n",
       "    .dataframe thead th {\n",
       "        text-align: right;\n",
       "    }\n",
       "</style>\n",
       "<table border=\"1\" class=\"dataframe\">\n",
       "  <thead>\n",
       "    <tr style=\"text-align: right;\">\n",
       "      <th></th>\n",
       "      <th>price</th>\n",
       "      <th>bed</th>\n",
       "      <th>bath</th>\n",
       "      <th>city</th>\n",
       "      <th>zip_code</th>\n",
       "      <th>house_size</th>\n",
       "    </tr>\n",
       "  </thead>\n",
       "  <tbody>\n",
       "    <tr>\n",
       "      <th>0</th>\n",
       "      <td>649000.0</td>\n",
       "      <td>5.0</td>\n",
       "      <td>4.0</td>\n",
       "      <td>Apopka</td>\n",
       "      <td>32703.0</td>\n",
       "      <td>3690.0</td>\n",
       "    </tr>\n",
       "    <tr>\n",
       "      <th>1</th>\n",
       "      <td>395000.0</td>\n",
       "      <td>3.0</td>\n",
       "      <td>2.0</td>\n",
       "      <td>Apopka</td>\n",
       "      <td>32703.0</td>\n",
       "      <td>2046.0</td>\n",
       "    </tr>\n",
       "    <tr>\n",
       "      <th>2</th>\n",
       "      <td>418000.0</td>\n",
       "      <td>4.0</td>\n",
       "      <td>3.0</td>\n",
       "      <td>Apopka</td>\n",
       "      <td>32703.0</td>\n",
       "      <td>2247.0</td>\n",
       "    </tr>\n",
       "    <tr>\n",
       "      <th>3</th>\n",
       "      <td>57000.0</td>\n",
       "      <td>2.0</td>\n",
       "      <td>1.0</td>\n",
       "      <td>Apopka</td>\n",
       "      <td>32703.0</td>\n",
       "      <td>568.0</td>\n",
       "    </tr>\n",
       "    <tr>\n",
       "      <th>4</th>\n",
       "      <td>210000.0</td>\n",
       "      <td>3.0</td>\n",
       "      <td>2.0</td>\n",
       "      <td>Apopka</td>\n",
       "      <td>32703.0</td>\n",
       "      <td>1188.0</td>\n",
       "    </tr>\n",
       "  </tbody>\n",
       "</table>\n",
       "</div>"
      ],
      "text/plain": [
       "      price  bed  bath    city  zip_code  house_size\n",
       "0  649000.0  5.0   4.0  Apopka   32703.0      3690.0\n",
       "1  395000.0  3.0   2.0  Apopka   32703.0      2046.0\n",
       "2  418000.0  4.0   3.0  Apopka   32703.0      2247.0\n",
       "3   57000.0  2.0   1.0  Apopka   32703.0       568.0\n",
       "4  210000.0  3.0   2.0  Apopka   32703.0      1188.0"
      ]
     },
     "execution_count": 22,
     "metadata": {},
     "output_type": "execute_result"
    }
   ],
   "source": [
    "# Display first few records of updated dataframe\n",
    "re_df2.head()"
   ]
  },
  {
   "cell_type": "markdown",
   "id": "f3b42ebd",
   "metadata": {},
   "source": [
    "# Data cleaning steps"
   ]
  },
  {
   "cell_type": "code",
   "execution_count": 23,
   "id": "842cdbf3",
   "metadata": {},
   "outputs": [
    {
     "data": {
      "text/plain": [
       "price            12\n",
       "bed           14411\n",
       "bath          15120\n",
       "city            118\n",
       "zip_code         10\n",
       "house_size    15162\n",
       "dtype: int64"
      ]
     },
     "execution_count": 23,
     "metadata": {},
     "output_type": "execute_result"
    }
   ],
   "source": [
    "# Find count of rows with null values for each of the category\n",
    "re_df2.isnull().sum()"
   ]
  },
  {
   "cell_type": "code",
   "execution_count": 30,
   "id": "86c7d8db",
   "metadata": {},
   "outputs": [],
   "source": [
    "# Remove all rows with null values\n",
    "re_df_clean = re_df2.dropna()"
   ]
  },
  {
   "cell_type": "code",
   "execution_count": 34,
   "id": "4dd8c282",
   "metadata": {},
   "outputs": [
    {
     "data": {
      "text/plain": [
       "price         0\n",
       "bed           0\n",
       "bath          0\n",
       "city          0\n",
       "zip_code      0\n",
       "house_size    0\n",
       "dtype: int64"
      ]
     },
     "execution_count": 34,
     "metadata": {},
     "output_type": "execute_result"
    }
   ],
   "source": [
    "# Check if any rows have null values now\n",
    "re_df_clean.isnull().sum()"
   ]
  },
  {
   "cell_type": "code",
   "execution_count": 35,
   "id": "d970b603",
   "metadata": {},
   "outputs": [
    {
     "data": {
      "text/html": [
       "<div>\n",
       "<style scoped>\n",
       "    .dataframe tbody tr th:only-of-type {\n",
       "        vertical-align: middle;\n",
       "    }\n",
       "\n",
       "    .dataframe tbody tr th {\n",
       "        vertical-align: top;\n",
       "    }\n",
       "\n",
       "    .dataframe thead th {\n",
       "        text-align: right;\n",
       "    }\n",
       "</style>\n",
       "<table border=\"1\" class=\"dataframe\">\n",
       "  <thead>\n",
       "    <tr style=\"text-align: right;\">\n",
       "      <th></th>\n",
       "      <th>price</th>\n",
       "      <th>bed</th>\n",
       "      <th>bath</th>\n",
       "      <th>city</th>\n",
       "      <th>zip_code</th>\n",
       "      <th>house_size</th>\n",
       "    </tr>\n",
       "  </thead>\n",
       "  <tbody>\n",
       "    <tr>\n",
       "      <th>0</th>\n",
       "      <td>649000.0</td>\n",
       "      <td>5.0</td>\n",
       "      <td>4.0</td>\n",
       "      <td>Apopka</td>\n",
       "      <td>32703.0</td>\n",
       "      <td>3690.0</td>\n",
       "    </tr>\n",
       "    <tr>\n",
       "      <th>1</th>\n",
       "      <td>395000.0</td>\n",
       "      <td>3.0</td>\n",
       "      <td>2.0</td>\n",
       "      <td>Apopka</td>\n",
       "      <td>32703.0</td>\n",
       "      <td>2046.0</td>\n",
       "    </tr>\n",
       "    <tr>\n",
       "      <th>2</th>\n",
       "      <td>418000.0</td>\n",
       "      <td>4.0</td>\n",
       "      <td>3.0</td>\n",
       "      <td>Apopka</td>\n",
       "      <td>32703.0</td>\n",
       "      <td>2247.0</td>\n",
       "    </tr>\n",
       "    <tr>\n",
       "      <th>3</th>\n",
       "      <td>57000.0</td>\n",
       "      <td>2.0</td>\n",
       "      <td>1.0</td>\n",
       "      <td>Apopka</td>\n",
       "      <td>32703.0</td>\n",
       "      <td>568.0</td>\n",
       "    </tr>\n",
       "    <tr>\n",
       "      <th>4</th>\n",
       "      <td>210000.0</td>\n",
       "      <td>3.0</td>\n",
       "      <td>2.0</td>\n",
       "      <td>Apopka</td>\n",
       "      <td>32703.0</td>\n",
       "      <td>1188.0</td>\n",
       "    </tr>\n",
       "  </tbody>\n",
       "</table>\n",
       "</div>"
      ],
      "text/plain": [
       "      price  bed  bath    city  zip_code  house_size\n",
       "0  649000.0  5.0   4.0  Apopka   32703.0      3690.0\n",
       "1  395000.0  3.0   2.0  Apopka   32703.0      2046.0\n",
       "2  418000.0  4.0   3.0  Apopka   32703.0      2247.0\n",
       "3   57000.0  2.0   1.0  Apopka   32703.0       568.0\n",
       "4  210000.0  3.0   2.0  Apopka   32703.0      1188.0"
      ]
     },
     "execution_count": 35,
     "metadata": {},
     "output_type": "execute_result"
    }
   ],
   "source": [
    "# Display few of the rows of the updated dataframe\n",
    "re_df_clean.head()"
   ]
  },
  {
   "cell_type": "code",
   "execution_count": 36,
   "id": "a718eaeb",
   "metadata": {},
   "outputs": [
    {
     "data": {
      "text/plain": [
       "(62009, 6)"
      ]
     },
     "execution_count": 36,
     "metadata": {},
     "output_type": "execute_result"
    }
   ],
   "source": [
    "# Check the number of rows and cloumns of the updated dataframe\n",
    "re_df_clean.shape"
   ]
  },
  {
   "cell_type": "code",
   "execution_count": 38,
   "id": "c09b050c",
   "metadata": {},
   "outputs": [
    {
     "data": {
      "text/html": [
       "<div>\n",
       "<style scoped>\n",
       "    .dataframe tbody tr th:only-of-type {\n",
       "        vertical-align: middle;\n",
       "    }\n",
       "\n",
       "    .dataframe tbody tr th {\n",
       "        vertical-align: top;\n",
       "    }\n",
       "\n",
       "    .dataframe thead th {\n",
       "        text-align: right;\n",
       "    }\n",
       "</style>\n",
       "<table border=\"1\" class=\"dataframe\">\n",
       "  <thead>\n",
       "    <tr style=\"text-align: right;\">\n",
       "      <th></th>\n",
       "      <th>price</th>\n",
       "      <th>bed</th>\n",
       "      <th>bath</th>\n",
       "      <th>city</th>\n",
       "      <th>zip_code</th>\n",
       "      <th>house_size</th>\n",
       "    </tr>\n",
       "  </thead>\n",
       "  <tbody>\n",
       "    <tr>\n",
       "      <th>2978</th>\n",
       "      <td>749900.0</td>\n",
       "      <td>14.0</td>\n",
       "      <td>7.0</td>\n",
       "      <td>Deland</td>\n",
       "      <td>32720.0</td>\n",
       "      <td>555.0</td>\n",
       "    </tr>\n",
       "    <tr>\n",
       "      <th>3095</th>\n",
       "      <td>325000.0</td>\n",
       "      <td>11.0</td>\n",
       "      <td>6.0</td>\n",
       "      <td>Deland</td>\n",
       "      <td>32724.0</td>\n",
       "      <td>4012.0</td>\n",
       "    </tr>\n",
       "    <tr>\n",
       "      <th>6006</th>\n",
       "      <td>699900.0</td>\n",
       "      <td>12.0</td>\n",
       "      <td>6.0</td>\n",
       "      <td>Orlando</td>\n",
       "      <td>32805.0</td>\n",
       "      <td>3384.0</td>\n",
       "    </tr>\n",
       "    <tr>\n",
       "      <th>8513</th>\n",
       "      <td>25000000.0</td>\n",
       "      <td>12.0</td>\n",
       "      <td>15.0</td>\n",
       "      <td>Orlando</td>\n",
       "      <td>32836.0</td>\n",
       "      <td>14706.0</td>\n",
       "    </tr>\n",
       "    <tr>\n",
       "      <th>9358</th>\n",
       "      <td>4250000.0</td>\n",
       "      <td>11.0</td>\n",
       "      <td>14.0</td>\n",
       "      <td>Reunion</td>\n",
       "      <td>34747.0</td>\n",
       "      <td>10377.0</td>\n",
       "    </tr>\n",
       "    <tr>\n",
       "      <th>...</th>\n",
       "      <td>...</td>\n",
       "      <td>...</td>\n",
       "      <td>...</td>\n",
       "      <td>...</td>\n",
       "      <td>...</td>\n",
       "      <td>...</td>\n",
       "    </tr>\n",
       "    <tr>\n",
       "      <th>69553</th>\n",
       "      <td>1900000.0</td>\n",
       "      <td>55.0</td>\n",
       "      <td>29.0</td>\n",
       "      <td>Mulberry</td>\n",
       "      <td>33860.0</td>\n",
       "      <td>28050.0</td>\n",
       "    </tr>\n",
       "    <tr>\n",
       "      <th>69656</th>\n",
       "      <td>3215625.0</td>\n",
       "      <td>74.0</td>\n",
       "      <td>49.0</td>\n",
       "      <td>Fort Meade</td>\n",
       "      <td>33841.0</td>\n",
       "      <td>45580.0</td>\n",
       "    </tr>\n",
       "    <tr>\n",
       "      <th>74927</th>\n",
       "      <td>2500000.0</td>\n",
       "      <td>24.0</td>\n",
       "      <td>24.0</td>\n",
       "      <td>Rotonda West</td>\n",
       "      <td>33947.0</td>\n",
       "      <td>11328.0</td>\n",
       "    </tr>\n",
       "    <tr>\n",
       "      <th>74961</th>\n",
       "      <td>999999.0</td>\n",
       "      <td>12.0</td>\n",
       "      <td>9.0</td>\n",
       "      <td>Arcadia</td>\n",
       "      <td>34266.0</td>\n",
       "      <td>3456.0</td>\n",
       "    </tr>\n",
       "    <tr>\n",
       "      <th>75114</th>\n",
       "      <td>1050000.0</td>\n",
       "      <td>18.0</td>\n",
       "      <td>6.0</td>\n",
       "      <td>Punta Gorda</td>\n",
       "      <td>33982.0</td>\n",
       "      <td>14182.0</td>\n",
       "    </tr>\n",
       "  </tbody>\n",
       "</table>\n",
       "<p>103 rows × 6 columns</p>\n",
       "</div>"
      ],
      "text/plain": [
       "            price   bed  bath          city  zip_code  house_size\n",
       "2978     749900.0  14.0   7.0        Deland   32720.0       555.0\n",
       "3095     325000.0  11.0   6.0        Deland   32724.0      4012.0\n",
       "6006     699900.0  12.0   6.0       Orlando   32805.0      3384.0\n",
       "8513   25000000.0  12.0  15.0       Orlando   32836.0     14706.0\n",
       "9358    4250000.0  11.0  14.0       Reunion   34747.0     10377.0\n",
       "...           ...   ...   ...           ...       ...         ...\n",
       "69553   1900000.0  55.0  29.0      Mulberry   33860.0     28050.0\n",
       "69656   3215625.0  74.0  49.0    Fort Meade   33841.0     45580.0\n",
       "74927   2500000.0  24.0  24.0  Rotonda West   33947.0     11328.0\n",
       "74961    999999.0  12.0   9.0       Arcadia   34266.0      3456.0\n",
       "75114   1050000.0  18.0   6.0   Punta Gorda   33982.0     14182.0\n",
       "\n",
       "[103 rows x 6 columns]"
      ]
     },
     "execution_count": 38,
     "metadata": {},
     "output_type": "execute_result"
    }
   ],
   "source": [
    "# Check number of rows with number of bedrooms > 10\n",
    "re_df_clean[re_df_clean.bed>10]"
   ]
  },
  {
   "cell_type": "code",
   "execution_count": 39,
   "id": "6ff6c7ef",
   "metadata": {},
   "outputs": [],
   "source": [
    "# Create a new dataframe with bed size > 10 removed\n",
    "re_df_cleaned = re_df_clean[re_df_clean['bed'] <= 10]"
   ]
  },
  {
   "cell_type": "code",
   "execution_count": 40,
   "id": "0ef050ea",
   "metadata": {},
   "outputs": [
    {
     "data": {
      "text/html": [
       "<div>\n",
       "<style scoped>\n",
       "    .dataframe tbody tr th:only-of-type {\n",
       "        vertical-align: middle;\n",
       "    }\n",
       "\n",
       "    .dataframe tbody tr th {\n",
       "        vertical-align: top;\n",
       "    }\n",
       "\n",
       "    .dataframe thead th {\n",
       "        text-align: right;\n",
       "    }\n",
       "</style>\n",
       "<table border=\"1\" class=\"dataframe\">\n",
       "  <thead>\n",
       "    <tr style=\"text-align: right;\">\n",
       "      <th></th>\n",
       "      <th>price</th>\n",
       "      <th>bed</th>\n",
       "      <th>bath</th>\n",
       "      <th>city</th>\n",
       "      <th>zip_code</th>\n",
       "      <th>house_size</th>\n",
       "    </tr>\n",
       "  </thead>\n",
       "  <tbody>\n",
       "    <tr>\n",
       "      <th>0</th>\n",
       "      <td>649000.0</td>\n",
       "      <td>5.0</td>\n",
       "      <td>4.0</td>\n",
       "      <td>Apopka</td>\n",
       "      <td>32703.0</td>\n",
       "      <td>3690.0</td>\n",
       "    </tr>\n",
       "    <tr>\n",
       "      <th>1</th>\n",
       "      <td>395000.0</td>\n",
       "      <td>3.0</td>\n",
       "      <td>2.0</td>\n",
       "      <td>Apopka</td>\n",
       "      <td>32703.0</td>\n",
       "      <td>2046.0</td>\n",
       "    </tr>\n",
       "    <tr>\n",
       "      <th>2</th>\n",
       "      <td>418000.0</td>\n",
       "      <td>4.0</td>\n",
       "      <td>3.0</td>\n",
       "      <td>Apopka</td>\n",
       "      <td>32703.0</td>\n",
       "      <td>2247.0</td>\n",
       "    </tr>\n",
       "    <tr>\n",
       "      <th>3</th>\n",
       "      <td>57000.0</td>\n",
       "      <td>2.0</td>\n",
       "      <td>1.0</td>\n",
       "      <td>Apopka</td>\n",
       "      <td>32703.0</td>\n",
       "      <td>568.0</td>\n",
       "    </tr>\n",
       "    <tr>\n",
       "      <th>4</th>\n",
       "      <td>210000.0</td>\n",
       "      <td>3.0</td>\n",
       "      <td>2.0</td>\n",
       "      <td>Apopka</td>\n",
       "      <td>32703.0</td>\n",
       "      <td>1188.0</td>\n",
       "    </tr>\n",
       "  </tbody>\n",
       "</table>\n",
       "</div>"
      ],
      "text/plain": [
       "      price  bed  bath    city  zip_code  house_size\n",
       "0  649000.0  5.0   4.0  Apopka   32703.0      3690.0\n",
       "1  395000.0  3.0   2.0  Apopka   32703.0      2046.0\n",
       "2  418000.0  4.0   3.0  Apopka   32703.0      2247.0\n",
       "3   57000.0  2.0   1.0  Apopka   32703.0       568.0\n",
       "4  210000.0  3.0   2.0  Apopka   32703.0      1188.0"
      ]
     },
     "execution_count": 40,
     "metadata": {},
     "output_type": "execute_result"
    }
   ],
   "source": [
    "# Display some of the rows of the cleaned dataset\n",
    "re_df_cleaned.head()"
   ]
  },
  {
   "cell_type": "code",
   "execution_count": 42,
   "id": "8c19d928",
   "metadata": {},
   "outputs": [
    {
     "data": {
      "text/plain": [
       "(61906, 6)"
      ]
     },
     "execution_count": 42,
     "metadata": {},
     "output_type": "execute_result"
    }
   ],
   "source": [
    "# Check the number of rows and columns of the updated dataframe\n",
    "re_df_cleaned.shape"
   ]
  },
  {
   "cell_type": "code",
   "execution_count": 43,
   "id": "3ee853b7",
   "metadata": {},
   "outputs": [
    {
     "data": {
      "text/html": [
       "<div>\n",
       "<style scoped>\n",
       "    .dataframe tbody tr th:only-of-type {\n",
       "        vertical-align: middle;\n",
       "    }\n",
       "\n",
       "    .dataframe tbody tr th {\n",
       "        vertical-align: top;\n",
       "    }\n",
       "\n",
       "    .dataframe thead th {\n",
       "        text-align: right;\n",
       "    }\n",
       "</style>\n",
       "<table border=\"1\" class=\"dataframe\">\n",
       "  <thead>\n",
       "    <tr style=\"text-align: right;\">\n",
       "      <th></th>\n",
       "      <th>price</th>\n",
       "      <th>bed</th>\n",
       "      <th>bath</th>\n",
       "      <th>city</th>\n",
       "      <th>zip_code</th>\n",
       "      <th>house_size</th>\n",
       "    </tr>\n",
       "  </thead>\n",
       "  <tbody>\n",
       "  </tbody>\n",
       "</table>\n",
       "</div>"
      ],
      "text/plain": [
       "Empty DataFrame\n",
       "Columns: [price, bed, bath, city, zip_code, house_size]\n",
       "Index: []"
      ]
     },
     "execution_count": 43,
     "metadata": {},
     "output_type": "execute_result"
    }
   ],
   "source": [
    "# Check if there are any rows with number of beds > 10\n",
    "re_df_cleaned[re_df_cleaned.bed>10]"
   ]
  },
  {
   "cell_type": "code",
   "execution_count": null,
   "id": "78bcc32e",
   "metadata": {},
   "outputs": [],
   "source": []
  }
 ],
 "metadata": {
  "kernelspec": {
   "display_name": "Python 3 (ipykernel)",
   "language": "python",
   "name": "python3"
  },
  "language_info": {
   "codemirror_mode": {
    "name": "ipython",
    "version": 3
   },
   "file_extension": ".py",
   "mimetype": "text/x-python",
   "name": "python",
   "nbconvert_exporter": "python",
   "pygments_lexer": "ipython3",
   "version": "3.11.5"
  }
 },
 "nbformat": 4,
 "nbformat_minor": 5
}
