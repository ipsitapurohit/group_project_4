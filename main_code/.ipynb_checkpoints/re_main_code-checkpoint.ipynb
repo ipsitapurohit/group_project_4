{
 "cells": [
  {
   "cell_type": "markdown",
   "id": "888e5d2d",
   "metadata": {},
   "source": [
    "# Real Estate Stock Price Prediction - Data cleaning and preparation steps"
   ]
  },
  {
   "cell_type": "code",
   "execution_count": 74,
   "id": "810abf65",
   "metadata": {},
   "outputs": [],
   "source": [
    "# Import all necessary libraries for the project\n",
    "\n",
    "import pandas as pd\n",
    "import numpy as np\n",
    "import os\n",
    "from sqlalchemy import create_engine, inspect\n",
    "from matplotlib import pyplot as plt\n",
    "%matplotlib inline\n",
    "import matplotlib\n",
    "matplotlib.rcParams[\"figure.figsize\"] = (20,10)"
   ]
  },
  {
   "cell_type": "code",
   "execution_count": 75,
   "id": "f94b8b9f",
   "metadata": {},
   "outputs": [
    {
     "name": "stdout",
     "output_type": "stream",
     "text": [
      "Absolute path to database: C:\\Users\\ipsit\\OneDrive\\Documents\\GitHub\\real_estate_project\\main_code\\florida_data.db\n"
     ]
    }
   ],
   "source": [
    "# db connection\n",
    "db_file = os.path.abspath('florida_data.db')\n",
    "engine = create_engine(f'sqlite:///{db_file}')\n",
    "\n",
    "# Print the absolute path to verify\n",
    "print(f\"Absolute path to database: {db_file}\")"
   ]
  },
  {
   "cell_type": "code",
   "execution_count": 76,
   "id": "3aa97539",
   "metadata": {},
   "outputs": [],
   "source": [
    "# Establishing the connection with sqlite\n",
    "query = '''SELECT * FROM florida_data_cleaned'''\n",
    "re_df1 = pd.read_sql(query, engine)"
   ]
  },
  {
   "cell_type": "code",
   "execution_count": 77,
   "id": "d85bf089",
   "metadata": {},
   "outputs": [
    {
     "data": {
      "text/html": [
       "<div>\n",
       "<style scoped>\n",
       "    .dataframe tbody tr th:only-of-type {\n",
       "        vertical-align: middle;\n",
       "    }\n",
       "\n",
       "    .dataframe tbody tr th {\n",
       "        vertical-align: top;\n",
       "    }\n",
       "\n",
       "    .dataframe thead th {\n",
       "        text-align: right;\n",
       "    }\n",
       "</style>\n",
       "<table border=\"1\" class=\"dataframe\">\n",
       "  <thead>\n",
       "    <tr style=\"text-align: right;\">\n",
       "      <th></th>\n",
       "      <th>price</th>\n",
       "      <th>bed</th>\n",
       "      <th>bath</th>\n",
       "      <th>city</th>\n",
       "      <th>zip_code</th>\n",
       "      <th>state</th>\n",
       "      <th>house_size</th>\n",
       "    </tr>\n",
       "  </thead>\n",
       "  <tbody>\n",
       "    <tr>\n",
       "      <th>0</th>\n",
       "      <td>1500000.0</td>\n",
       "      <td>None</td>\n",
       "      <td>None</td>\n",
       "      <td>Malabar</td>\n",
       "      <td>32950.0</td>\n",
       "      <td>Florida</td>\n",
       "      <td>None</td>\n",
       "    </tr>\n",
       "    <tr>\n",
       "      <th>1</th>\n",
       "      <td>436000.0</td>\n",
       "      <td>None</td>\n",
       "      <td>None</td>\n",
       "      <td>None</td>\n",
       "      <td>99999.0</td>\n",
       "      <td>Florida</td>\n",
       "      <td>None</td>\n",
       "    </tr>\n",
       "    <tr>\n",
       "      <th>2</th>\n",
       "      <td>349000.0</td>\n",
       "      <td>None</td>\n",
       "      <td>None</td>\n",
       "      <td>Palm Bay</td>\n",
       "      <td>32905.0</td>\n",
       "      <td>Florida</td>\n",
       "      <td>None</td>\n",
       "    </tr>\n",
       "    <tr>\n",
       "      <th>3</th>\n",
       "      <td>100000.0</td>\n",
       "      <td>None</td>\n",
       "      <td>None</td>\n",
       "      <td>Out of State</td>\n",
       "      <td>None</td>\n",
       "      <td>Florida</td>\n",
       "      <td>None</td>\n",
       "    </tr>\n",
       "    <tr>\n",
       "      <th>4</th>\n",
       "      <td>52000.0</td>\n",
       "      <td>None</td>\n",
       "      <td>None</td>\n",
       "      <td>Out of State</td>\n",
       "      <td>None</td>\n",
       "      <td>Florida</td>\n",
       "      <td>None</td>\n",
       "    </tr>\n",
       "  </tbody>\n",
       "</table>\n",
       "</div>"
      ],
      "text/plain": [
       "       price   bed  bath          city zip_code    state house_size\n",
       "0  1500000.0  None  None       Malabar  32950.0  Florida       None\n",
       "1   436000.0  None  None          None  99999.0  Florida       None\n",
       "2   349000.0  None  None      Palm Bay  32905.0  Florida       None\n",
       "3   100000.0  None  None  Out of State     None  Florida       None\n",
       "4    52000.0  None  None  Out of State     None  Florida       None"
      ]
     },
     "execution_count": 77,
     "metadata": {},
     "output_type": "execute_result"
    }
   ],
   "source": [
    "# Display the first few records\n",
    "re_df1.head()"
   ]
  },
  {
   "cell_type": "code",
   "execution_count": 78,
   "id": "8068a5f6",
   "metadata": {},
   "outputs": [
    {
     "data": {
      "text/plain": [
       "(249432, 7)"
      ]
     },
     "execution_count": 78,
     "metadata": {},
     "output_type": "execute_result"
    }
   ],
   "source": [
    "# Display number of rows and columns\n",
    "re_df1.shape"
   ]
  },
  {
   "cell_type": "code",
   "execution_count": 79,
   "id": "22cc817c",
   "metadata": {
    "scrolled": true
   },
   "outputs": [],
   "source": [
    "# Drop columns that are not needed for data analysis\n",
    "re_df2 = re_df1.drop(['state','zip_code'], axis='columns')"
   ]
  },
  {
   "cell_type": "code",
   "execution_count": 80,
   "id": "489cad52",
   "metadata": {},
   "outputs": [
    {
     "data": {
      "text/html": [
       "<div>\n",
       "<style scoped>\n",
       "    .dataframe tbody tr th:only-of-type {\n",
       "        vertical-align: middle;\n",
       "    }\n",
       "\n",
       "    .dataframe tbody tr th {\n",
       "        vertical-align: top;\n",
       "    }\n",
       "\n",
       "    .dataframe thead th {\n",
       "        text-align: right;\n",
       "    }\n",
       "</style>\n",
       "<table border=\"1\" class=\"dataframe\">\n",
       "  <thead>\n",
       "    <tr style=\"text-align: right;\">\n",
       "      <th></th>\n",
       "      <th>price</th>\n",
       "      <th>bed</th>\n",
       "      <th>bath</th>\n",
       "      <th>city</th>\n",
       "      <th>house_size</th>\n",
       "    </tr>\n",
       "  </thead>\n",
       "  <tbody>\n",
       "    <tr>\n",
       "      <th>0</th>\n",
       "      <td>1500000.0</td>\n",
       "      <td>None</td>\n",
       "      <td>None</td>\n",
       "      <td>Malabar</td>\n",
       "      <td>None</td>\n",
       "    </tr>\n",
       "    <tr>\n",
       "      <th>1</th>\n",
       "      <td>436000.0</td>\n",
       "      <td>None</td>\n",
       "      <td>None</td>\n",
       "      <td>None</td>\n",
       "      <td>None</td>\n",
       "    </tr>\n",
       "    <tr>\n",
       "      <th>2</th>\n",
       "      <td>349000.0</td>\n",
       "      <td>None</td>\n",
       "      <td>None</td>\n",
       "      <td>Palm Bay</td>\n",
       "      <td>None</td>\n",
       "    </tr>\n",
       "    <tr>\n",
       "      <th>3</th>\n",
       "      <td>100000.0</td>\n",
       "      <td>None</td>\n",
       "      <td>None</td>\n",
       "      <td>Out of State</td>\n",
       "      <td>None</td>\n",
       "    </tr>\n",
       "    <tr>\n",
       "      <th>4</th>\n",
       "      <td>52000.0</td>\n",
       "      <td>None</td>\n",
       "      <td>None</td>\n",
       "      <td>Out of State</td>\n",
       "      <td>None</td>\n",
       "    </tr>\n",
       "  </tbody>\n",
       "</table>\n",
       "</div>"
      ],
      "text/plain": [
       "       price   bed  bath          city house_size\n",
       "0  1500000.0  None  None       Malabar       None\n",
       "1   436000.0  None  None          None       None\n",
       "2   349000.0  None  None      Palm Bay       None\n",
       "3   100000.0  None  None  Out of State       None\n",
       "4    52000.0  None  None  Out of State       None"
      ]
     },
     "execution_count": 80,
     "metadata": {},
     "output_type": "execute_result"
    }
   ],
   "source": [
    "# Display first few records of updated dataframe\n",
    "re_df2.head()"
   ]
  },
  {
   "cell_type": "markdown",
   "id": "1222f286",
   "metadata": {},
   "source": [
    "# Data cleaning steps"
   ]
  },
  {
   "cell_type": "code",
   "execution_count": 81,
   "id": "842cdbf3",
   "metadata": {},
   "outputs": [
    {
     "data": {
      "text/plain": [
       "price            14\n",
       "bed           60539\n",
       "bath          62198\n",
       "city            374\n",
       "house_size    61145\n",
       "dtype: int64"
      ]
     },
     "execution_count": 81,
     "metadata": {},
     "output_type": "execute_result"
    }
   ],
   "source": [
    "# Find count of rows with null values for each of the category\n",
    "re_df2.isnull().sum()"
   ]
  },
  {
   "cell_type": "code",
   "execution_count": 82,
   "id": "d0848952",
   "metadata": {},
   "outputs": [],
   "source": [
    "# Remove all rows with null values\n",
    "re_df_clean = re_df2.dropna()"
   ]
  },
  {
   "cell_type": "code",
   "execution_count": 83,
   "id": "bf111d4d",
   "metadata": {},
   "outputs": [
    {
     "data": {
      "text/plain": [
       "price         0\n",
       "bed           0\n",
       "bath          0\n",
       "city          0\n",
       "house_size    0\n",
       "dtype: int64"
      ]
     },
     "execution_count": 83,
     "metadata": {},
     "output_type": "execute_result"
    }
   ],
   "source": [
    "# Check if any rows have null values now\n",
    "re_df_clean.isnull().sum()"
   ]
  },
  {
   "cell_type": "code",
   "execution_count": 84,
   "id": "a96083c5",
   "metadata": {},
   "outputs": [
    {
     "data": {
      "text/html": [
       "<div>\n",
       "<style scoped>\n",
       "    .dataframe tbody tr th:only-of-type {\n",
       "        vertical-align: middle;\n",
       "    }\n",
       "\n",
       "    .dataframe tbody tr th {\n",
       "        vertical-align: top;\n",
       "    }\n",
       "\n",
       "    .dataframe thead th {\n",
       "        text-align: right;\n",
       "    }\n",
       "</style>\n",
       "<table border=\"1\" class=\"dataframe\">\n",
       "  <thead>\n",
       "    <tr style=\"text-align: right;\">\n",
       "      <th></th>\n",
       "      <th>price</th>\n",
       "      <th>bed</th>\n",
       "      <th>bath</th>\n",
       "      <th>city</th>\n",
       "      <th>house_size</th>\n",
       "    </tr>\n",
       "  </thead>\n",
       "  <tbody>\n",
       "    <tr>\n",
       "      <th>5</th>\n",
       "      <td>275000.0</td>\n",
       "      <td>6.0</td>\n",
       "      <td>4.0</td>\n",
       "      <td>Hilliard</td>\n",
       "      <td>2368.0</td>\n",
       "    </tr>\n",
       "    <tr>\n",
       "      <th>6</th>\n",
       "      <td>285000.0</td>\n",
       "      <td>3.0</td>\n",
       "      <td>2.0</td>\n",
       "      <td>Yulee</td>\n",
       "      <td>1635.0</td>\n",
       "    </tr>\n",
       "    <tr>\n",
       "      <th>7</th>\n",
       "      <td>644000.0</td>\n",
       "      <td>4.0</td>\n",
       "      <td>4.0</td>\n",
       "      <td>Fernandina Beach</td>\n",
       "      <td>2814.0</td>\n",
       "    </tr>\n",
       "    <tr>\n",
       "      <th>8</th>\n",
       "      <td>340000.0</td>\n",
       "      <td>3.0</td>\n",
       "      <td>2.0</td>\n",
       "      <td>Yulee</td>\n",
       "      <td>1503.0</td>\n",
       "    </tr>\n",
       "    <tr>\n",
       "      <th>9</th>\n",
       "      <td>649000.0</td>\n",
       "      <td>3.0</td>\n",
       "      <td>1.0</td>\n",
       "      <td>Fernandina Beach</td>\n",
       "      <td>1896.0</td>\n",
       "    </tr>\n",
       "  </tbody>\n",
       "</table>\n",
       "</div>"
      ],
      "text/plain": [
       "      price  bed bath              city house_size\n",
       "5  275000.0  6.0  4.0          Hilliard     2368.0\n",
       "6  285000.0  3.0  2.0             Yulee     1635.0\n",
       "7  644000.0  4.0  4.0  Fernandina Beach     2814.0\n",
       "8  340000.0  3.0  2.0             Yulee     1503.0\n",
       "9  649000.0  3.0  1.0  Fernandina Beach     1896.0"
      ]
     },
     "execution_count": 84,
     "metadata": {},
     "output_type": "execute_result"
    }
   ],
   "source": [
    "# Display few of the rows of the updated dataframe\n",
    "re_df_clean.head()"
   ]
  },
  {
   "cell_type": "code",
   "execution_count": 85,
   "id": "4f7bf3fa",
   "metadata": {},
   "outputs": [
    {
     "data": {
      "text/plain": [
       "(183371, 5)"
      ]
     },
     "execution_count": 85,
     "metadata": {},
     "output_type": "execute_result"
    }
   ],
   "source": [
    "# Check the number of rows and cloumns of the updated dataframe\n",
    "re_df_clean.shape"
   ]
  },
  {
   "cell_type": "code",
   "execution_count": 86,
   "id": "e8f24310",
   "metadata": {},
   "outputs": [
    {
     "name": "stdout",
     "output_type": "stream",
     "text": [
      "<class 'pandas.core.frame.DataFrame'>\n",
      "Index: 183371 entries, 5 to 249429\n",
      "Data columns (total 5 columns):\n",
      " #   Column      Non-Null Count   Dtype  \n",
      "---  ------      --------------   -----  \n",
      " 0   price       183371 non-null  float64\n",
      " 1   bed         183371 non-null  object \n",
      " 2   bath        183371 non-null  object \n",
      " 3   city        183371 non-null  object \n",
      " 4   house_size  183371 non-null  object \n",
      "dtypes: float64(1), object(4)\n",
      "memory usage: 8.4+ MB\n"
     ]
    }
   ],
   "source": [
    "re_df_clean.info()"
   ]
  },
  {
   "cell_type": "code",
   "execution_count": 87,
   "id": "1b86f275",
   "metadata": {},
   "outputs": [
    {
     "name": "stderr",
     "output_type": "stream",
     "text": [
      "C:\\Users\\ipsit\\AppData\\Local\\Temp\\ipykernel_42196\\3573223467.py:1: SettingWithCopyWarning: \n",
      "A value is trying to be set on a copy of a slice from a DataFrame.\n",
      "Try using .loc[row_indexer,col_indexer] = value instead\n",
      "\n",
      "See the caveats in the documentation: https://pandas.pydata.org/pandas-docs/stable/user_guide/indexing.html#returning-a-view-versus-a-copy\n",
      "  re_df_clean['bed'] = re_df_clean['bed'].astype(float)\n",
      "C:\\Users\\ipsit\\AppData\\Local\\Temp\\ipykernel_42196\\3573223467.py:2: SettingWithCopyWarning: \n",
      "A value is trying to be set on a copy of a slice from a DataFrame.\n",
      "Try using .loc[row_indexer,col_indexer] = value instead\n",
      "\n",
      "See the caveats in the documentation: https://pandas.pydata.org/pandas-docs/stable/user_guide/indexing.html#returning-a-view-versus-a-copy\n",
      "  re_df_clean['bath'] = re_df_clean['bath'].astype(float)\n",
      "C:\\Users\\ipsit\\AppData\\Local\\Temp\\ipykernel_42196\\3573223467.py:3: SettingWithCopyWarning: \n",
      "A value is trying to be set on a copy of a slice from a DataFrame.\n",
      "Try using .loc[row_indexer,col_indexer] = value instead\n",
      "\n",
      "See the caveats in the documentation: https://pandas.pydata.org/pandas-docs/stable/user_guide/indexing.html#returning-a-view-versus-a-copy\n",
      "  re_df_clean['price'] = re_df_clean['price'].astype(float)\n",
      "C:\\Users\\ipsit\\AppData\\Local\\Temp\\ipykernel_42196\\3573223467.py:4: SettingWithCopyWarning: \n",
      "A value is trying to be set on a copy of a slice from a DataFrame.\n",
      "Try using .loc[row_indexer,col_indexer] = value instead\n",
      "\n",
      "See the caveats in the documentation: https://pandas.pydata.org/pandas-docs/stable/user_guide/indexing.html#returning-a-view-versus-a-copy\n",
      "  re_df_clean['house_size'] = re_df_clean['house_size'].astype(float)\n"
     ]
    }
   ],
   "source": [
    "re_df_clean['bed'] = re_df_clean['bed'].astype(float)\n",
    "re_df_clean['bath'] = re_df_clean['bath'].astype(float)\n",
    "re_df_clean['price'] = re_df_clean['price'].astype(float)\n",
    "re_df_clean['house_size'] = re_df_clean['house_size'].astype(float)"
   ]
  },
  {
   "cell_type": "code",
   "execution_count": 88,
   "id": "440bbde4",
   "metadata": {},
   "outputs": [
    {
     "name": "stdout",
     "output_type": "stream",
     "text": [
      "<class 'pandas.core.frame.DataFrame'>\n",
      "Index: 183371 entries, 5 to 249429\n",
      "Data columns (total 5 columns):\n",
      " #   Column      Non-Null Count   Dtype  \n",
      "---  ------      --------------   -----  \n",
      " 0   price       183371 non-null  float64\n",
      " 1   bed         183371 non-null  float64\n",
      " 2   bath        183371 non-null  float64\n",
      " 3   city        183371 non-null  object \n",
      " 4   house_size  183371 non-null  float64\n",
      "dtypes: float64(4), object(1)\n",
      "memory usage: 8.4+ MB\n"
     ]
    }
   ],
   "source": [
    "re_df_clean.info()"
   ]
  },
  {
   "cell_type": "code",
   "execution_count": 89,
   "id": "b277b38a",
   "metadata": {},
   "outputs": [
    {
     "data": {
      "text/html": [
       "<div>\n",
       "<style scoped>\n",
       "    .dataframe tbody tr th:only-of-type {\n",
       "        vertical-align: middle;\n",
       "    }\n",
       "\n",
       "    .dataframe tbody tr th {\n",
       "        vertical-align: top;\n",
       "    }\n",
       "\n",
       "    .dataframe thead th {\n",
       "        text-align: right;\n",
       "    }\n",
       "</style>\n",
       "<table border=\"1\" class=\"dataframe\">\n",
       "  <thead>\n",
       "    <tr style=\"text-align: right;\">\n",
       "      <th></th>\n",
       "      <th>price</th>\n",
       "      <th>bed</th>\n",
       "      <th>bath</th>\n",
       "      <th>city</th>\n",
       "      <th>house_size</th>\n",
       "    </tr>\n",
       "  </thead>\n",
       "  <tbody>\n",
       "    <tr>\n",
       "      <th>180</th>\n",
       "      <td>650000.0</td>\n",
       "      <td>14.0</td>\n",
       "      <td>8.0</td>\n",
       "      <td>Fernandina Beach</td>\n",
       "      <td>4525.0</td>\n",
       "    </tr>\n",
       "    <tr>\n",
       "      <th>183</th>\n",
       "      <td>1500000.0</td>\n",
       "      <td>66.0</td>\n",
       "      <td>46.0</td>\n",
       "      <td>Yulee</td>\n",
       "      <td>1000.0</td>\n",
       "    </tr>\n",
       "    <tr>\n",
       "      <th>353</th>\n",
       "      <td>1850000.0</td>\n",
       "      <td>12.0</td>\n",
       "      <td>8.0</td>\n",
       "      <td>Jacksonville</td>\n",
       "      <td>6562.0</td>\n",
       "    </tr>\n",
       "    <tr>\n",
       "      <th>565</th>\n",
       "      <td>890000.0</td>\n",
       "      <td>17.0</td>\n",
       "      <td>17.0</td>\n",
       "      <td>Starke</td>\n",
       "      <td>8869.0</td>\n",
       "    </tr>\n",
       "    <tr>\n",
       "      <th>1315</th>\n",
       "      <td>1750000.0</td>\n",
       "      <td>12.0</td>\n",
       "      <td>7.0</td>\n",
       "      <td>Jacksonville</td>\n",
       "      <td>6215.0</td>\n",
       "    </tr>\n",
       "    <tr>\n",
       "      <th>...</th>\n",
       "      <td>...</td>\n",
       "      <td>...</td>\n",
       "      <td>...</td>\n",
       "      <td>...</td>\n",
       "      <td>...</td>\n",
       "    </tr>\n",
       "    <tr>\n",
       "      <th>191384</th>\n",
       "      <td>938000.0</td>\n",
       "      <td>12.0</td>\n",
       "      <td>12.0</td>\n",
       "      <td>Kissimmee</td>\n",
       "      <td>4831.0</td>\n",
       "    </tr>\n",
       "    <tr>\n",
       "      <th>192459</th>\n",
       "      <td>1950000.0</td>\n",
       "      <td>11.0</td>\n",
       "      <td>14.0</td>\n",
       "      <td>Davenport</td>\n",
       "      <td>7200.0</td>\n",
       "    </tr>\n",
       "    <tr>\n",
       "      <th>192587</th>\n",
       "      <td>1299000.0</td>\n",
       "      <td>14.0</td>\n",
       "      <td>11.0</td>\n",
       "      <td>Davenport</td>\n",
       "      <td>6223.0</td>\n",
       "    </tr>\n",
       "    <tr>\n",
       "      <th>204460</th>\n",
       "      <td>19500000.0</td>\n",
       "      <td>32.0</td>\n",
       "      <td>32.0</td>\n",
       "      <td>North Bay Village</td>\n",
       "      <td>33596.0</td>\n",
       "    </tr>\n",
       "    <tr>\n",
       "      <th>238711</th>\n",
       "      <td>3999000.0</td>\n",
       "      <td>12.0</td>\n",
       "      <td>13.0</td>\n",
       "      <td>Reunion</td>\n",
       "      <td>11687.0</td>\n",
       "    </tr>\n",
       "  </tbody>\n",
       "</table>\n",
       "<p>163 rows × 5 columns</p>\n",
       "</div>"
      ],
      "text/plain": [
       "             price   bed  bath               city  house_size\n",
       "180       650000.0  14.0   8.0   Fernandina Beach      4525.0\n",
       "183      1500000.0  66.0  46.0              Yulee      1000.0\n",
       "353      1850000.0  12.0   8.0       Jacksonville      6562.0\n",
       "565       890000.0  17.0  17.0             Starke      8869.0\n",
       "1315     1750000.0  12.0   7.0       Jacksonville      6215.0\n",
       "...            ...   ...   ...                ...         ...\n",
       "191384    938000.0  12.0  12.0          Kissimmee      4831.0\n",
       "192459   1950000.0  11.0  14.0          Davenport      7200.0\n",
       "192587   1299000.0  14.0  11.0          Davenport      6223.0\n",
       "204460  19500000.0  32.0  32.0  North Bay Village     33596.0\n",
       "238711   3999000.0  12.0  13.0            Reunion     11687.0\n",
       "\n",
       "[163 rows x 5 columns]"
      ]
     },
     "execution_count": 89,
     "metadata": {},
     "output_type": "execute_result"
    }
   ],
   "source": [
    "# Check number of rows with number of bedrooms > 10\n",
    "re_df_clean[re_df_clean.bed>10]"
   ]
  },
  {
   "cell_type": "code",
   "execution_count": 90,
   "id": "b54e9d0c",
   "metadata": {},
   "outputs": [],
   "source": [
    "# Create a new dataframe with bed size > 10 removed\n",
    "re_df_cleaned = re_df_clean[re_df_clean['bed'] <= 10]"
   ]
  },
  {
   "cell_type": "code",
   "execution_count": 91,
   "id": "52e411a1",
   "metadata": {},
   "outputs": [
    {
     "data": {
      "text/html": [
       "<div>\n",
       "<style scoped>\n",
       "    .dataframe tbody tr th:only-of-type {\n",
       "        vertical-align: middle;\n",
       "    }\n",
       "\n",
       "    .dataframe tbody tr th {\n",
       "        vertical-align: top;\n",
       "    }\n",
       "\n",
       "    .dataframe thead th {\n",
       "        text-align: right;\n",
       "    }\n",
       "</style>\n",
       "<table border=\"1\" class=\"dataframe\">\n",
       "  <thead>\n",
       "    <tr style=\"text-align: right;\">\n",
       "      <th></th>\n",
       "      <th>price</th>\n",
       "      <th>bed</th>\n",
       "      <th>bath</th>\n",
       "      <th>city</th>\n",
       "      <th>house_size</th>\n",
       "    </tr>\n",
       "  </thead>\n",
       "  <tbody>\n",
       "    <tr>\n",
       "      <th>5</th>\n",
       "      <td>275000.0</td>\n",
       "      <td>6.0</td>\n",
       "      <td>4.0</td>\n",
       "      <td>Hilliard</td>\n",
       "      <td>2368.0</td>\n",
       "    </tr>\n",
       "    <tr>\n",
       "      <th>6</th>\n",
       "      <td>285000.0</td>\n",
       "      <td>3.0</td>\n",
       "      <td>2.0</td>\n",
       "      <td>Yulee</td>\n",
       "      <td>1635.0</td>\n",
       "    </tr>\n",
       "    <tr>\n",
       "      <th>7</th>\n",
       "      <td>644000.0</td>\n",
       "      <td>4.0</td>\n",
       "      <td>4.0</td>\n",
       "      <td>Fernandina Beach</td>\n",
       "      <td>2814.0</td>\n",
       "    </tr>\n",
       "    <tr>\n",
       "      <th>8</th>\n",
       "      <td>340000.0</td>\n",
       "      <td>3.0</td>\n",
       "      <td>2.0</td>\n",
       "      <td>Yulee</td>\n",
       "      <td>1503.0</td>\n",
       "    </tr>\n",
       "    <tr>\n",
       "      <th>9</th>\n",
       "      <td>649000.0</td>\n",
       "      <td>3.0</td>\n",
       "      <td>1.0</td>\n",
       "      <td>Fernandina Beach</td>\n",
       "      <td>1896.0</td>\n",
       "    </tr>\n",
       "  </tbody>\n",
       "</table>\n",
       "</div>"
      ],
      "text/plain": [
       "      price  bed  bath              city  house_size\n",
       "5  275000.0  6.0   4.0          Hilliard      2368.0\n",
       "6  285000.0  3.0   2.0             Yulee      1635.0\n",
       "7  644000.0  4.0   4.0  Fernandina Beach      2814.0\n",
       "8  340000.0  3.0   2.0             Yulee      1503.0\n",
       "9  649000.0  3.0   1.0  Fernandina Beach      1896.0"
      ]
     },
     "execution_count": 91,
     "metadata": {},
     "output_type": "execute_result"
    }
   ],
   "source": [
    "# Display some of the rows of the cleaned dataset\n",
    "re_df_cleaned.head()"
   ]
  },
  {
   "cell_type": "code",
   "execution_count": 92,
   "id": "28c1ee45",
   "metadata": {},
   "outputs": [
    {
     "data": {
      "text/plain": [
       "(183208, 5)"
      ]
     },
     "execution_count": 92,
     "metadata": {},
     "output_type": "execute_result"
    }
   ],
   "source": [
    "# Check the number of rows and columns of the updated dataframe\n",
    "re_df_cleaned.shape"
   ]
  },
  {
   "cell_type": "code",
   "execution_count": 93,
   "id": "7bf5f77b",
   "metadata": {},
   "outputs": [
    {
     "data": {
      "text/html": [
       "<div>\n",
       "<style scoped>\n",
       "    .dataframe tbody tr th:only-of-type {\n",
       "        vertical-align: middle;\n",
       "    }\n",
       "\n",
       "    .dataframe tbody tr th {\n",
       "        vertical-align: top;\n",
       "    }\n",
       "\n",
       "    .dataframe thead th {\n",
       "        text-align: right;\n",
       "    }\n",
       "</style>\n",
       "<table border=\"1\" class=\"dataframe\">\n",
       "  <thead>\n",
       "    <tr style=\"text-align: right;\">\n",
       "      <th></th>\n",
       "      <th>price</th>\n",
       "      <th>bed</th>\n",
       "      <th>bath</th>\n",
       "      <th>city</th>\n",
       "      <th>house_size</th>\n",
       "    </tr>\n",
       "  </thead>\n",
       "  <tbody>\n",
       "  </tbody>\n",
       "</table>\n",
       "</div>"
      ],
      "text/plain": [
       "Empty DataFrame\n",
       "Columns: [price, bed, bath, city, house_size]\n",
       "Index: []"
      ]
     },
     "execution_count": 93,
     "metadata": {},
     "output_type": "execute_result"
    }
   ],
   "source": [
    "# Check if there are any rows with number of beds > 10\n",
    "re_df_cleaned[re_df_cleaned.bed>10]"
   ]
  },
  {
   "cell_type": "markdown",
   "id": "2c3234af",
   "metadata": {},
   "source": [
    "# Feature Engineering"
   ]
  },
  {
   "cell_type": "code",
   "execution_count": 94,
   "id": "841e4db2",
   "metadata": {},
   "outputs": [
    {
     "data": {
      "text/html": [
       "<div>\n",
       "<style scoped>\n",
       "    .dataframe tbody tr th:only-of-type {\n",
       "        vertical-align: middle;\n",
       "    }\n",
       "\n",
       "    .dataframe tbody tr th {\n",
       "        vertical-align: top;\n",
       "    }\n",
       "\n",
       "    .dataframe thead th {\n",
       "        text-align: right;\n",
       "    }\n",
       "</style>\n",
       "<table border=\"1\" class=\"dataframe\">\n",
       "  <thead>\n",
       "    <tr style=\"text-align: right;\">\n",
       "      <th></th>\n",
       "      <th>price</th>\n",
       "      <th>bed</th>\n",
       "      <th>bath</th>\n",
       "      <th>city</th>\n",
       "      <th>house_size</th>\n",
       "      <th>price_per_sqft</th>\n",
       "    </tr>\n",
       "  </thead>\n",
       "  <tbody>\n",
       "    <tr>\n",
       "      <th>5</th>\n",
       "      <td>275000.0</td>\n",
       "      <td>6.0</td>\n",
       "      <td>4.0</td>\n",
       "      <td>Hilliard</td>\n",
       "      <td>2368.0</td>\n",
       "      <td>116.13</td>\n",
       "    </tr>\n",
       "    <tr>\n",
       "      <th>6</th>\n",
       "      <td>285000.0</td>\n",
       "      <td>3.0</td>\n",
       "      <td>2.0</td>\n",
       "      <td>Yulee</td>\n",
       "      <td>1635.0</td>\n",
       "      <td>174.31</td>\n",
       "    </tr>\n",
       "    <tr>\n",
       "      <th>7</th>\n",
       "      <td>644000.0</td>\n",
       "      <td>4.0</td>\n",
       "      <td>4.0</td>\n",
       "      <td>Fernandina Beach</td>\n",
       "      <td>2814.0</td>\n",
       "      <td>228.86</td>\n",
       "    </tr>\n",
       "    <tr>\n",
       "      <th>8</th>\n",
       "      <td>340000.0</td>\n",
       "      <td>3.0</td>\n",
       "      <td>2.0</td>\n",
       "      <td>Yulee</td>\n",
       "      <td>1503.0</td>\n",
       "      <td>226.21</td>\n",
       "    </tr>\n",
       "    <tr>\n",
       "      <th>9</th>\n",
       "      <td>649000.0</td>\n",
       "      <td>3.0</td>\n",
       "      <td>1.0</td>\n",
       "      <td>Fernandina Beach</td>\n",
       "      <td>1896.0</td>\n",
       "      <td>342.30</td>\n",
       "    </tr>\n",
       "  </tbody>\n",
       "</table>\n",
       "</div>"
      ],
      "text/plain": [
       "      price  bed  bath              city  house_size  price_per_sqft\n",
       "5  275000.0  6.0   4.0          Hilliard      2368.0          116.13\n",
       "6  285000.0  3.0   2.0             Yulee      1635.0          174.31\n",
       "7  644000.0  4.0   4.0  Fernandina Beach      2814.0          228.86\n",
       "8  340000.0  3.0   2.0             Yulee      1503.0          226.21\n",
       "9  649000.0  3.0   1.0  Fernandina Beach      1896.0          342.30"
      ]
     },
     "execution_count": 94,
     "metadata": {},
     "output_type": "execute_result"
    }
   ],
   "source": [
    "# Copy dataframe into new dataframe to create an additional column i.e. price_per_sqft\n",
    "re_df_cleaned2 = re_df_cleaned.copy()\n",
    "re_df_cleaned2['price_per_sqft'] = (re_df_cleaned['price'] / re_df_cleaned['house_size']).round(2)\n",
    "re_df_cleaned2.head()"
   ]
  },
  {
   "cell_type": "code",
   "execution_count": 95,
   "id": "2ab9a214",
   "metadata": {},
   "outputs": [
    {
     "data": {
      "text/plain": [
       "675"
      ]
     },
     "execution_count": 95,
     "metadata": {},
     "output_type": "execute_result"
    }
   ],
   "source": [
    "# Find unique count of cities\n",
    "len(re_df_cleaned2.city.unique())"
   ]
  },
  {
   "cell_type": "code",
   "execution_count": 96,
   "id": "4b4f9e91",
   "metadata": {},
   "outputs": [
    {
     "data": {
      "text/plain": [
       "city\n",
       "Jacksonville    8790\n",
       "Miami           8574\n",
       "Orlando         6554\n",
       "Tampa           5573\n",
       "Naples          4753\n",
       "                ... \n",
       "Homeland           1\n",
       "Wausau             1\n",
       "Bagdad             1\n",
       "Medart             1\n",
       "Waverly            1\n",
       "Name: city, Length: 675, dtype: int64"
      ]
     },
     "execution_count": 96,
     "metadata": {},
     "output_type": "execute_result"
    }
   ],
   "source": [
    "# Clean up city column values by removing leading and trailing spaces\n",
    "re_df_cleaned2.city = re_df_cleaned2.city.apply(lambda x: x.strip())\n",
    "\n",
    "# Find and display  the count of rows per city\n",
    "city_stats = re_df_cleaned2.groupby('city')['city'].agg('count').sort_values(ascending = False)\n",
    "city_stats"
   ]
  },
  {
   "cell_type": "code",
   "execution_count": 97,
   "id": "17adbfb4",
   "metadata": {},
   "outputs": [
    {
     "data": {
      "text/plain": [
       "177"
      ]
     },
     "execution_count": 97,
     "metadata": {},
     "output_type": "execute_result"
    }
   ],
   "source": [
    "# Find out count of cities with less than 10 data points\n",
    "len(city_stats[city_stats<=10])"
   ]
  },
  {
   "cell_type": "code",
   "execution_count": 98,
   "id": "7689e35b",
   "metadata": {},
   "outputs": [
    {
     "data": {
      "text/plain": [
       "city\n",
       "Babcock Ranch      10\n",
       "Rosemary Beach     10\n",
       "Ridge Manor        10\n",
       "Raiford            10\n",
       "Everglades City    10\n",
       "                   ..\n",
       "Homeland            1\n",
       "Wausau              1\n",
       "Bagdad              1\n",
       "Medart              1\n",
       "Waverly             1\n",
       "Name: city, Length: 177, dtype: int64"
      ]
     },
     "execution_count": 98,
     "metadata": {},
     "output_type": "execute_result"
    }
   ],
   "source": [
    "# Display cities with less than 10 data points\n",
    "city_stats_less_than_10 = city_stats[city_stats<=10]\n",
    "city_stats_less_than_10"
   ]
  },
  {
   "cell_type": "code",
   "execution_count": 99,
   "id": "c14bb6bc",
   "metadata": {},
   "outputs": [
    {
     "data": {
      "text/plain": [
       "499"
      ]
     },
     "execution_count": 99,
     "metadata": {},
     "output_type": "execute_result"
    }
   ],
   "source": [
    "# Replace all the cities with less than 10 data points with \"other\"\n",
    "re_df_cleaned2.city = re_df_cleaned2.city.apply(lambda x: 'other' if x in city_stats_less_than_10 else x)\n",
    "len(re_df_cleaned2.city.unique())"
   ]
  },
  {
   "cell_type": "code",
   "execution_count": 100,
   "id": "fcf1e18e",
   "metadata": {},
   "outputs": [
    {
     "data": {
      "text/html": [
       "<div>\n",
       "<style scoped>\n",
       "    .dataframe tbody tr th:only-of-type {\n",
       "        vertical-align: middle;\n",
       "    }\n",
       "\n",
       "    .dataframe tbody tr th {\n",
       "        vertical-align: top;\n",
       "    }\n",
       "\n",
       "    .dataframe thead th {\n",
       "        text-align: right;\n",
       "    }\n",
       "</style>\n",
       "<table border=\"1\" class=\"dataframe\">\n",
       "  <thead>\n",
       "    <tr style=\"text-align: right;\">\n",
       "      <th></th>\n",
       "      <th>price</th>\n",
       "      <th>bed</th>\n",
       "      <th>bath</th>\n",
       "      <th>city</th>\n",
       "      <th>house_size</th>\n",
       "      <th>price_per_sqft</th>\n",
       "    </tr>\n",
       "  </thead>\n",
       "  <tbody>\n",
       "    <tr>\n",
       "      <th>5</th>\n",
       "      <td>275000.0</td>\n",
       "      <td>6.0</td>\n",
       "      <td>4.0</td>\n",
       "      <td>Hilliard</td>\n",
       "      <td>2368.0</td>\n",
       "      <td>116.13</td>\n",
       "    </tr>\n",
       "    <tr>\n",
       "      <th>6</th>\n",
       "      <td>285000.0</td>\n",
       "      <td>3.0</td>\n",
       "      <td>2.0</td>\n",
       "      <td>Yulee</td>\n",
       "      <td>1635.0</td>\n",
       "      <td>174.31</td>\n",
       "    </tr>\n",
       "    <tr>\n",
       "      <th>7</th>\n",
       "      <td>644000.0</td>\n",
       "      <td>4.0</td>\n",
       "      <td>4.0</td>\n",
       "      <td>Fernandina Beach</td>\n",
       "      <td>2814.0</td>\n",
       "      <td>228.86</td>\n",
       "    </tr>\n",
       "    <tr>\n",
       "      <th>8</th>\n",
       "      <td>340000.0</td>\n",
       "      <td>3.0</td>\n",
       "      <td>2.0</td>\n",
       "      <td>Yulee</td>\n",
       "      <td>1503.0</td>\n",
       "      <td>226.21</td>\n",
       "    </tr>\n",
       "    <tr>\n",
       "      <th>9</th>\n",
       "      <td>649000.0</td>\n",
       "      <td>3.0</td>\n",
       "      <td>1.0</td>\n",
       "      <td>Fernandina Beach</td>\n",
       "      <td>1896.0</td>\n",
       "      <td>342.30</td>\n",
       "    </tr>\n",
       "  </tbody>\n",
       "</table>\n",
       "</div>"
      ],
      "text/plain": [
       "      price  bed  bath              city  house_size  price_per_sqft\n",
       "5  275000.0  6.0   4.0          Hilliard      2368.0          116.13\n",
       "6  285000.0  3.0   2.0             Yulee      1635.0          174.31\n",
       "7  644000.0  4.0   4.0  Fernandina Beach      2814.0          228.86\n",
       "8  340000.0  3.0   2.0             Yulee      1503.0          226.21\n",
       "9  649000.0  3.0   1.0  Fernandina Beach      1896.0          342.30"
      ]
     },
     "execution_count": 100,
     "metadata": {},
     "output_type": "execute_result"
    }
   ],
   "source": [
    "re_df_cleaned2.head()"
   ]
  },
  {
   "cell_type": "markdown",
   "id": "213b6439",
   "metadata": {},
   "source": [
    "# Outlier detection and removal"
   ]
  },
  {
   "cell_type": "code",
   "execution_count": 101,
   "id": "2dfebabe",
   "metadata": {},
   "outputs": [
    {
     "data": {
      "text/html": [
       "<div>\n",
       "<style scoped>\n",
       "    .dataframe tbody tr th:only-of-type {\n",
       "        vertical-align: middle;\n",
       "    }\n",
       "\n",
       "    .dataframe tbody tr th {\n",
       "        vertical-align: top;\n",
       "    }\n",
       "\n",
       "    .dataframe thead th {\n",
       "        text-align: right;\n",
       "    }\n",
       "</style>\n",
       "<table border=\"1\" class=\"dataframe\">\n",
       "  <thead>\n",
       "    <tr style=\"text-align: right;\">\n",
       "      <th></th>\n",
       "      <th>price</th>\n",
       "      <th>bed</th>\n",
       "      <th>bath</th>\n",
       "      <th>city</th>\n",
       "      <th>house_size</th>\n",
       "      <th>price_per_sqft</th>\n",
       "    </tr>\n",
       "  </thead>\n",
       "  <tbody>\n",
       "    <tr>\n",
       "      <th>137</th>\n",
       "      <td>385000.0</td>\n",
       "      <td>3.0</td>\n",
       "      <td>1.0</td>\n",
       "      <td>Fernandina Beach</td>\n",
       "      <td>884.0</td>\n",
       "      <td>435.52</td>\n",
       "    </tr>\n",
       "    <tr>\n",
       "      <th>224</th>\n",
       "      <td>195000.0</td>\n",
       "      <td>3.0</td>\n",
       "      <td>1.0</td>\n",
       "      <td>Fernandina Beach</td>\n",
       "      <td>875.0</td>\n",
       "      <td>222.86</td>\n",
       "    </tr>\n",
       "    <tr>\n",
       "      <th>802</th>\n",
       "      <td>139900.0</td>\n",
       "      <td>3.0</td>\n",
       "      <td>1.0</td>\n",
       "      <td>Callahan</td>\n",
       "      <td>880.0</td>\n",
       "      <td>158.98</td>\n",
       "    </tr>\n",
       "    <tr>\n",
       "      <th>831</th>\n",
       "      <td>175000.0</td>\n",
       "      <td>3.0</td>\n",
       "      <td>1.0</td>\n",
       "      <td>Middleburg</td>\n",
       "      <td>672.0</td>\n",
       "      <td>260.42</td>\n",
       "    </tr>\n",
       "    <tr>\n",
       "      <th>1042</th>\n",
       "      <td>75000.0</td>\n",
       "      <td>3.0</td>\n",
       "      <td>2.0</td>\n",
       "      <td>Middleburg</td>\n",
       "      <td>840.0</td>\n",
       "      <td>89.29</td>\n",
       "    </tr>\n",
       "  </tbody>\n",
       "</table>\n",
       "</div>"
      ],
      "text/plain": [
       "         price  bed  bath              city  house_size  price_per_sqft\n",
       "137   385000.0  3.0   1.0  Fernandina Beach       884.0          435.52\n",
       "224   195000.0  3.0   1.0  Fernandina Beach       875.0          222.86\n",
       "802   139900.0  3.0   1.0          Callahan       880.0          158.98\n",
       "831   175000.0  3.0   1.0        Middleburg       672.0          260.42\n",
       "1042   75000.0  3.0   2.0        Middleburg       840.0           89.29"
      ]
     },
     "execution_count": 101,
     "metadata": {},
     "output_type": "execute_result"
    }
   ],
   "source": [
    "# Finding out the data points where total square feet of the house divided by number of bedrooms is less than 300\n",
    "re_df_cleaned2[(re_df_cleaned2.house_size/re_df_cleaned2.bed)<300].head()"
   ]
  },
  {
   "cell_type": "code",
   "execution_count": 102,
   "id": "793bb54d",
   "metadata": {},
   "outputs": [
    {
     "data": {
      "text/plain": [
       "(183208, 6)"
      ]
     },
     "execution_count": 102,
     "metadata": {},
     "output_type": "execute_result"
    }
   ],
   "source": [
    "re_df_cleaned2.shape"
   ]
  },
  {
   "cell_type": "code",
   "execution_count": 103,
   "id": "8a621e0f",
   "metadata": {},
   "outputs": [
    {
     "data": {
      "text/plain": [
       "(181349, 6)"
      ]
     },
     "execution_count": 103,
     "metadata": {},
     "output_type": "execute_result"
    }
   ],
   "source": [
    "# Remove above outliers\n",
    "re_df_cleaned3 = re_df_cleaned2[~((re_df_cleaned2.house_size/re_df_cleaned2.bed)<300)]\n",
    "re_df_cleaned3.shape"
   ]
  },
  {
   "cell_type": "code",
   "execution_count": 104,
   "id": "bf0d2584",
   "metadata": {},
   "outputs": [
    {
     "data": {
      "text/plain": [
       "count    181349.000000\n",
       "mean        307.666475\n",
       "std         316.296319\n",
       "min           0.110000\n",
       "25%         176.690000\n",
       "50%         224.250000\n",
       "75%         317.180000\n",
       "max       19000.000000\n",
       "Name: price_per_sqft, dtype: float64"
      ]
     },
     "execution_count": 104,
     "metadata": {},
     "output_type": "execute_result"
    }
   ],
   "source": [
    "# Remove extremely low and extremely high price per sqft columns\n",
    "re_df_cleaned3.price_per_sqft.describe()"
   ]
  },
  {
   "cell_type": "code",
   "execution_count": 105,
   "id": "954229f2",
   "metadata": {},
   "outputs": [
    {
     "data": {
      "text/plain": [
       "(150082, 6)"
      ]
     },
     "execution_count": 105,
     "metadata": {},
     "output_type": "execute_result"
    }
   ],
   "source": [
    "# Write function to remove outliers  \n",
    "\n",
    "def remove_ppsqft_outliers(df):\n",
    "    df_out = pd.DataFrame()\n",
    "    for key, subdf in df.groupby('city'):\n",
    "        m = np.mean(subdf.price_per_sqft)\n",
    "        st = np.std(subdf.price_per_sqft)\n",
    "        reduced_df = subdf[(subdf.price_per_sqft>(m-st)) & (subdf.price_per_sqft<=(m+st))]\n",
    "        df_out = pd.concat([df_out,reduced_df],ignore_index=True)\n",
    "    return df_out\n",
    "\n",
    "re_df_cleaned4 = remove_ppsqft_outliers(re_df_cleaned3)\n",
    "re_df_cleaned4.shape\n",
    "    "
   ]
  },
  {
   "cell_type": "code",
   "execution_count": 106,
   "id": "e0dc12ad",
   "metadata": {},
   "outputs": [
    {
     "data": {
      "text/plain": [
       "Text(0, 0.5, 'Count')"
      ]
     },
     "execution_count": 106,
     "metadata": {},
     "output_type": "execute_result"
    },
    {
     "data": {
      "image/png": "[encoded data removed]",
      "text/plain": [
       "<Figure size 2000x1000 with 1 Axes>"
      ]
     },
     "metadata": {},
     "output_type": "display_data"
    }
   ],
   "source": [
    "# Plot a histogram with price per square feet and count of data points\n",
    "matplotlib.rcParams[\"figure.figsize\"] = (20,10)\n",
    "plt.hist(re_df_cleaned4.price_per_sqft)\n",
    "plt.xlabel(\"Price per square feet\")\n",
    "plt.ylabel(\"Count\")"
   ]
  },
  {
   "cell_type": "code",
   "execution_count": 107,
   "id": "45db098b",
   "metadata": {},
   "outputs": [
    {
     "data": {
      "text/plain": [
       "Text(0, 0.5, 'Count')"
      ]
     },
     "execution_count": 107,
     "metadata": {},
     "output_type": "execute_result"
    },
    {
     "data": {
      "image/png": "[encoded data removed]",
      "text/plain": [
       "<Figure size 2000x1000 with 1 Axes>"
      ]
     },
     "metadata": {},
     "output_type": "display_data"
    }
   ],
   "source": [
    "# Plot a histogram with number of bathrooms and count of data points\n",
    "plt.hist(re_df_cleaned4.bath)\n",
    "plt.xlabel(\"Number of bathrooms\")\n",
    "plt.ylabel(\"Count\")"
   ]
  },
  {
   "cell_type": "code",
   "execution_count": 108,
   "id": "68d26843",
   "metadata": {},
   "outputs": [
    {
     "data": {
      "text/html": [
       "<div>\n",
       "<style scoped>\n",
       "    .dataframe tbody tr th:only-of-type {\n",
       "        vertical-align: middle;\n",
       "    }\n",
       "\n",
       "    .dataframe tbody tr th {\n",
       "        vertical-align: top;\n",
       "    }\n",
       "\n",
       "    .dataframe thead th {\n",
       "        text-align: right;\n",
       "    }\n",
       "</style>\n",
       "<table border=\"1\" class=\"dataframe\">\n",
       "  <thead>\n",
       "    <tr style=\"text-align: right;\">\n",
       "      <th></th>\n",
       "      <th>price</th>\n",
       "      <th>bed</th>\n",
       "      <th>bath</th>\n",
       "      <th>city</th>\n",
       "      <th>house_size</th>\n",
       "      <th>price_per_sqft</th>\n",
       "    </tr>\n",
       "  </thead>\n",
       "  <tbody>\n",
       "    <tr>\n",
       "      <th>1665</th>\n",
       "      <td>3690000.0</td>\n",
       "      <td>6.0</td>\n",
       "      <td>9.0</td>\n",
       "      <td>Atlantic Beach</td>\n",
       "      <td>7309.0</td>\n",
       "      <td>504.86</td>\n",
       "    </tr>\n",
       "    <tr>\n",
       "      <th>1758</th>\n",
       "      <td>3259000.0</td>\n",
       "      <td>6.0</td>\n",
       "      <td>9.0</td>\n",
       "      <td>Atlantic Beach</td>\n",
       "      <td>5400.0</td>\n",
       "      <td>603.52</td>\n",
       "    </tr>\n",
       "    <tr>\n",
       "      <th>2088</th>\n",
       "      <td>2680000.0</td>\n",
       "      <td>5.0</td>\n",
       "      <td>8.0</td>\n",
       "      <td>Aventura</td>\n",
       "      <td>5953.0</td>\n",
       "      <td>450.19</td>\n",
       "    </tr>\n",
       "    <tr>\n",
       "      <th>2921</th>\n",
       "      <td>6295000.0</td>\n",
       "      <td>6.0</td>\n",
       "      <td>10.0</td>\n",
       "      <td>Bal Harbour</td>\n",
       "      <td>6738.0</td>\n",
       "      <td>934.25</td>\n",
       "    </tr>\n",
       "    <tr>\n",
       "      <th>4005</th>\n",
       "      <td>7750000.0</td>\n",
       "      <td>4.0</td>\n",
       "      <td>7.0</td>\n",
       "      <td>Boca Grande</td>\n",
       "      <td>5433.0</td>\n",
       "      <td>1426.47</td>\n",
       "    </tr>\n",
       "    <tr>\n",
       "      <th>...</th>\n",
       "      <td>...</td>\n",
       "      <td>...</td>\n",
       "      <td>...</td>\n",
       "      <td>...</td>\n",
       "      <td>...</td>\n",
       "      <td>...</td>\n",
       "    </tr>\n",
       "    <tr>\n",
       "      <th>145291</th>\n",
       "      <td>2950000.0</td>\n",
       "      <td>6.0</td>\n",
       "      <td>9.0</td>\n",
       "      <td>Weston</td>\n",
       "      <td>7138.0</td>\n",
       "      <td>413.28</td>\n",
       "    </tr>\n",
       "    <tr>\n",
       "      <th>145633</th>\n",
       "      <td>420000.0</td>\n",
       "      <td>1.0</td>\n",
       "      <td>4.0</td>\n",
       "      <td>Williston</td>\n",
       "      <td>10000.0</td>\n",
       "      <td>42.00</td>\n",
       "    </tr>\n",
       "    <tr>\n",
       "      <th>146118</th>\n",
       "      <td>10000000.0</td>\n",
       "      <td>6.0</td>\n",
       "      <td>15.0</td>\n",
       "      <td>Windermere</td>\n",
       "      <td>24080.0</td>\n",
       "      <td>415.28</td>\n",
       "    </tr>\n",
       "    <tr>\n",
       "      <th>146180</th>\n",
       "      <td>2600000.0</td>\n",
       "      <td>5.0</td>\n",
       "      <td>9.0</td>\n",
       "      <td>Windermere</td>\n",
       "      <td>6011.0</td>\n",
       "      <td>432.54</td>\n",
       "    </tr>\n",
       "    <tr>\n",
       "      <th>147933</th>\n",
       "      <td>1750000.0</td>\n",
       "      <td>5.0</td>\n",
       "      <td>8.0</td>\n",
       "      <td>Winter Park</td>\n",
       "      <td>7762.0</td>\n",
       "      <td>225.46</td>\n",
       "    </tr>\n",
       "  </tbody>\n",
       "</table>\n",
       "<p>182 rows × 6 columns</p>\n",
       "</div>"
      ],
      "text/plain": [
       "             price  bed  bath            city  house_size  price_per_sqft\n",
       "1665     3690000.0  6.0   9.0  Atlantic Beach      7309.0          504.86\n",
       "1758     3259000.0  6.0   9.0  Atlantic Beach      5400.0          603.52\n",
       "2088     2680000.0  5.0   8.0        Aventura      5953.0          450.19\n",
       "2921     6295000.0  6.0  10.0     Bal Harbour      6738.0          934.25\n",
       "4005     7750000.0  4.0   7.0     Boca Grande      5433.0         1426.47\n",
       "...            ...  ...   ...             ...         ...             ...\n",
       "145291   2950000.0  6.0   9.0          Weston      7138.0          413.28\n",
       "145633    420000.0  1.0   4.0       Williston     10000.0           42.00\n",
       "146118  10000000.0  6.0  15.0      Windermere     24080.0          415.28\n",
       "146180   2600000.0  5.0   9.0      Windermere      6011.0          432.54\n",
       "147933   1750000.0  5.0   8.0     Winter Park      7762.0          225.46\n",
       "\n",
       "[182 rows x 6 columns]"
      ]
     },
     "execution_count": 108,
     "metadata": {},
     "output_type": "execute_result"
    }
   ],
   "source": [
    "# Finding out data points where number of bathrooms is greater than bedrooms + 2\n",
    "re_df_cleaned4[re_df_cleaned4.bath>re_df_cleaned4.bed+2]"
   ]
  },
  {
   "cell_type": "code",
   "execution_count": 109,
   "id": "9d25487f",
   "metadata": {},
   "outputs": [
    {
     "data": {
      "text/plain": [
       "(149900, 6)"
      ]
     },
     "execution_count": 109,
     "metadata": {},
     "output_type": "execute_result"
    }
   ],
   "source": [
    "# Removing data points where number of bathrooms is greater than bedrooms + 2\n",
    "re_df_cleaned5 = re_df_cleaned4[~(re_df_cleaned4.bath>re_df_cleaned4.bed+2)]\n",
    "re_df_cleaned5.shape"
   ]
  },
  {
   "cell_type": "code",
   "execution_count": 110,
   "id": "50f9c033",
   "metadata": {},
   "outputs": [
    {
     "data": {
      "text/html": [
       "<div>\n",
       "<style scoped>\n",
       "    .dataframe tbody tr th:only-of-type {\n",
       "        vertical-align: middle;\n",
       "    }\n",
       "\n",
       "    .dataframe tbody tr th {\n",
       "        vertical-align: top;\n",
       "    }\n",
       "\n",
       "    .dataframe thead th {\n",
       "        text-align: right;\n",
       "    }\n",
       "</style>\n",
       "<table border=\"1\" class=\"dataframe\">\n",
       "  <thead>\n",
       "    <tr style=\"text-align: right;\">\n",
       "      <th></th>\n",
       "      <th>price</th>\n",
       "      <th>bed</th>\n",
       "      <th>bath</th>\n",
       "      <th>city</th>\n",
       "      <th>house_size</th>\n",
       "    </tr>\n",
       "  </thead>\n",
       "  <tbody>\n",
       "    <tr>\n",
       "      <th>0</th>\n",
       "      <td>399000.0</td>\n",
       "      <td>4.0</td>\n",
       "      <td>2.0</td>\n",
       "      <td>Alachua</td>\n",
       "      <td>1700.0</td>\n",
       "    </tr>\n",
       "    <tr>\n",
       "      <th>1</th>\n",
       "      <td>218000.0</td>\n",
       "      <td>3.0</td>\n",
       "      <td>2.0</td>\n",
       "      <td>Alachua</td>\n",
       "      <td>1512.0</td>\n",
       "    </tr>\n",
       "    <tr>\n",
       "      <th>2</th>\n",
       "      <td>244900.0</td>\n",
       "      <td>2.0</td>\n",
       "      <td>2.0</td>\n",
       "      <td>Alachua</td>\n",
       "      <td>1243.0</td>\n",
       "    </tr>\n",
       "    <tr>\n",
       "      <th>3</th>\n",
       "      <td>310000.0</td>\n",
       "      <td>3.0</td>\n",
       "      <td>2.0</td>\n",
       "      <td>Alachua</td>\n",
       "      <td>1764.0</td>\n",
       "    </tr>\n",
       "    <tr>\n",
       "      <th>4</th>\n",
       "      <td>385000.0</td>\n",
       "      <td>4.0</td>\n",
       "      <td>3.0</td>\n",
       "      <td>Alachua</td>\n",
       "      <td>3018.0</td>\n",
       "    </tr>\n",
       "  </tbody>\n",
       "</table>\n",
       "</div>"
      ],
      "text/plain": [
       "      price  bed  bath     city  house_size\n",
       "0  399000.0  4.0   2.0  Alachua      1700.0\n",
       "1  218000.0  3.0   2.0  Alachua      1512.0\n",
       "2  244900.0  2.0   2.0  Alachua      1243.0\n",
       "3  310000.0  3.0   2.0  Alachua      1764.0\n",
       "4  385000.0  4.0   3.0  Alachua      3018.0"
      ]
     },
     "execution_count": 110,
     "metadata": {},
     "output_type": "execute_result"
    }
   ],
   "source": [
    "# Drop price_per_sqft,zip_code columns\n",
    "re_df_cleaned6 = re_df_cleaned5.drop(columns=['price_per_sqft'])\n",
    "re_df_cleaned6.head()"
   ]
  },
  {
   "cell_type": "markdown",
   "id": "e744c02e",
   "metadata": {},
   "source": [
    "# Build Machine Learning Algorithm"
   ]
  },
  {
   "cell_type": "code",
   "execution_count": 111,
   "id": "78119282",
   "metadata": {},
   "outputs": [],
   "source": [
    "# Ensure the 'city' column is of string type\n",
    "re_df_cleaned6['city'] = re_df_cleaned6['city'].astype(str)"
   ]
  },
  {
   "cell_type": "code",
   "execution_count": 112,
   "id": "7a1e3832",
   "metadata": {
    "scrolled": true
   },
   "outputs": [
    {
     "data": {
      "text/html": [
       "<div>\n",
       "<style scoped>\n",
       "    .dataframe tbody tr th:only-of-type {\n",
       "        vertical-align: middle;\n",
       "    }\n",
       "\n",
       "    .dataframe tbody tr th {\n",
       "        vertical-align: top;\n",
       "    }\n",
       "\n",
       "    .dataframe thead th {\n",
       "        text-align: right;\n",
       "    }\n",
       "</style>\n",
       "<table border=\"1\" class=\"dataframe\">\n",
       "  <thead>\n",
       "    <tr style=\"text-align: right;\">\n",
       "      <th></th>\n",
       "      <th>Alachua</th>\n",
       "      <th>Altamonte Springs</th>\n",
       "      <th>Altha</th>\n",
       "      <th>Altoona</th>\n",
       "      <th>Alva</th>\n",
       "      <th>Alys Beach</th>\n",
       "      <th>Amelia Island</th>\n",
       "      <th>Anna Maria</th>\n",
       "      <th>Anthony</th>\n",
       "      <th>Apalachicola</th>\n",
       "      <th>...</th>\n",
       "      <th>Winter Haven</th>\n",
       "      <th>Winter Park</th>\n",
       "      <th>Winter Springs</th>\n",
       "      <th>Yalaha</th>\n",
       "      <th>Youngstown</th>\n",
       "      <th>Yulee</th>\n",
       "      <th>Zellwood</th>\n",
       "      <th>Zephyrhills</th>\n",
       "      <th>Zolfo Springs</th>\n",
       "      <th>other</th>\n",
       "    </tr>\n",
       "  </thead>\n",
       "  <tbody>\n",
       "    <tr>\n",
       "      <th>0</th>\n",
       "      <td>1</td>\n",
       "      <td>0</td>\n",
       "      <td>0</td>\n",
       "      <td>0</td>\n",
       "      <td>0</td>\n",
       "      <td>0</td>\n",
       "      <td>0</td>\n",
       "      <td>0</td>\n",
       "      <td>0</td>\n",
       "      <td>0</td>\n",
       "      <td>...</td>\n",
       "      <td>0</td>\n",
       "      <td>0</td>\n",
       "      <td>0</td>\n",
       "      <td>0</td>\n",
       "      <td>0</td>\n",
       "      <td>0</td>\n",
       "      <td>0</td>\n",
       "      <td>0</td>\n",
       "      <td>0</td>\n",
       "      <td>0</td>\n",
       "    </tr>\n",
       "    <tr>\n",
       "      <th>1</th>\n",
       "      <td>1</td>\n",
       "      <td>0</td>\n",
       "      <td>0</td>\n",
       "      <td>0</td>\n",
       "      <td>0</td>\n",
       "      <td>0</td>\n",
       "      <td>0</td>\n",
       "      <td>0</td>\n",
       "      <td>0</td>\n",
       "      <td>0</td>\n",
       "      <td>...</td>\n",
       "      <td>0</td>\n",
       "      <td>0</td>\n",
       "      <td>0</td>\n",
       "      <td>0</td>\n",
       "      <td>0</td>\n",
       "      <td>0</td>\n",
       "      <td>0</td>\n",
       "      <td>0</td>\n",
       "      <td>0</td>\n",
       "      <td>0</td>\n",
       "    </tr>\n",
       "    <tr>\n",
       "      <th>2</th>\n",
       "      <td>1</td>\n",
       "      <td>0</td>\n",
       "      <td>0</td>\n",
       "      <td>0</td>\n",
       "      <td>0</td>\n",
       "      <td>0</td>\n",
       "      <td>0</td>\n",
       "      <td>0</td>\n",
       "      <td>0</td>\n",
       "      <td>0</td>\n",
       "      <td>...</td>\n",
       "      <td>0</td>\n",
       "      <td>0</td>\n",
       "      <td>0</td>\n",
       "      <td>0</td>\n",
       "      <td>0</td>\n",
       "      <td>0</td>\n",
       "      <td>0</td>\n",
       "      <td>0</td>\n",
       "      <td>0</td>\n",
       "      <td>0</td>\n",
       "    </tr>\n",
       "    <tr>\n",
       "      <th>3</th>\n",
       "      <td>1</td>\n",
       "      <td>0</td>\n",
       "      <td>0</td>\n",
       "      <td>0</td>\n",
       "      <td>0</td>\n",
       "      <td>0</td>\n",
       "      <td>0</td>\n",
       "      <td>0</td>\n",
       "      <td>0</td>\n",
       "      <td>0</td>\n",
       "      <td>...</td>\n",
       "      <td>0</td>\n",
       "      <td>0</td>\n",
       "      <td>0</td>\n",
       "      <td>0</td>\n",
       "      <td>0</td>\n",
       "      <td>0</td>\n",
       "      <td>0</td>\n",
       "      <td>0</td>\n",
       "      <td>0</td>\n",
       "      <td>0</td>\n",
       "    </tr>\n",
       "    <tr>\n",
       "      <th>4</th>\n",
       "      <td>1</td>\n",
       "      <td>0</td>\n",
       "      <td>0</td>\n",
       "      <td>0</td>\n",
       "      <td>0</td>\n",
       "      <td>0</td>\n",
       "      <td>0</td>\n",
       "      <td>0</td>\n",
       "      <td>0</td>\n",
       "      <td>0</td>\n",
       "      <td>...</td>\n",
       "      <td>0</td>\n",
       "      <td>0</td>\n",
       "      <td>0</td>\n",
       "      <td>0</td>\n",
       "      <td>0</td>\n",
       "      <td>0</td>\n",
       "      <td>0</td>\n",
       "      <td>0</td>\n",
       "      <td>0</td>\n",
       "      <td>0</td>\n",
       "    </tr>\n",
       "    <tr>\n",
       "      <th>...</th>\n",
       "      <td>...</td>\n",
       "      <td>...</td>\n",
       "      <td>...</td>\n",
       "      <td>...</td>\n",
       "      <td>...</td>\n",
       "      <td>...</td>\n",
       "      <td>...</td>\n",
       "      <td>...</td>\n",
       "      <td>...</td>\n",
       "      <td>...</td>\n",
       "      <td>...</td>\n",
       "      <td>...</td>\n",
       "      <td>...</td>\n",
       "      <td>...</td>\n",
       "      <td>...</td>\n",
       "      <td>...</td>\n",
       "      <td>...</td>\n",
       "      <td>...</td>\n",
       "      <td>...</td>\n",
       "      <td>...</td>\n",
       "      <td>...</td>\n",
       "    </tr>\n",
       "    <tr>\n",
       "      <th>150077</th>\n",
       "      <td>0</td>\n",
       "      <td>0</td>\n",
       "      <td>0</td>\n",
       "      <td>0</td>\n",
       "      <td>0</td>\n",
       "      <td>0</td>\n",
       "      <td>0</td>\n",
       "      <td>0</td>\n",
       "      <td>0</td>\n",
       "      <td>0</td>\n",
       "      <td>...</td>\n",
       "      <td>0</td>\n",
       "      <td>0</td>\n",
       "      <td>0</td>\n",
       "      <td>0</td>\n",
       "      <td>0</td>\n",
       "      <td>0</td>\n",
       "      <td>0</td>\n",
       "      <td>0</td>\n",
       "      <td>0</td>\n",
       "      <td>1</td>\n",
       "    </tr>\n",
       "    <tr>\n",
       "      <th>150078</th>\n",
       "      <td>0</td>\n",
       "      <td>0</td>\n",
       "      <td>0</td>\n",
       "      <td>0</td>\n",
       "      <td>0</td>\n",
       "      <td>0</td>\n",
       "      <td>0</td>\n",
       "      <td>0</td>\n",
       "      <td>0</td>\n",
       "      <td>0</td>\n",
       "      <td>...</td>\n",
       "      <td>0</td>\n",
       "      <td>0</td>\n",
       "      <td>0</td>\n",
       "      <td>0</td>\n",
       "      <td>0</td>\n",
       "      <td>0</td>\n",
       "      <td>0</td>\n",
       "      <td>0</td>\n",
       "      <td>0</td>\n",
       "      <td>1</td>\n",
       "    </tr>\n",
       "    <tr>\n",
       "      <th>150079</th>\n",
       "      <td>0</td>\n",
       "      <td>0</td>\n",
       "      <td>0</td>\n",
       "      <td>0</td>\n",
       "      <td>0</td>\n",
       "      <td>0</td>\n",
       "      <td>0</td>\n",
       "      <td>0</td>\n",
       "      <td>0</td>\n",
       "      <td>0</td>\n",
       "      <td>...</td>\n",
       "      <td>0</td>\n",
       "      <td>0</td>\n",
       "      <td>0</td>\n",
       "      <td>0</td>\n",
       "      <td>0</td>\n",
       "      <td>0</td>\n",
       "      <td>0</td>\n",
       "      <td>0</td>\n",
       "      <td>0</td>\n",
       "      <td>1</td>\n",
       "    </tr>\n",
       "    <tr>\n",
       "      <th>150080</th>\n",
       "      <td>0</td>\n",
       "      <td>0</td>\n",
       "      <td>0</td>\n",
       "      <td>0</td>\n",
       "      <td>0</td>\n",
       "      <td>0</td>\n",
       "      <td>0</td>\n",
       "      <td>0</td>\n",
       "      <td>0</td>\n",
       "      <td>0</td>\n",
       "      <td>...</td>\n",
       "      <td>0</td>\n",
       "      <td>0</td>\n",
       "      <td>0</td>\n",
       "      <td>0</td>\n",
       "      <td>0</td>\n",
       "      <td>0</td>\n",
       "      <td>0</td>\n",
       "      <td>0</td>\n",
       "      <td>0</td>\n",
       "      <td>1</td>\n",
       "    </tr>\n",
       "    <tr>\n",
       "      <th>150081</th>\n",
       "      <td>0</td>\n",
       "      <td>0</td>\n",
       "      <td>0</td>\n",
       "      <td>0</td>\n",
       "      <td>0</td>\n",
       "      <td>0</td>\n",
       "      <td>0</td>\n",
       "      <td>0</td>\n",
       "      <td>0</td>\n",
       "      <td>0</td>\n",
       "      <td>...</td>\n",
       "      <td>0</td>\n",
       "      <td>0</td>\n",
       "      <td>0</td>\n",
       "      <td>0</td>\n",
       "      <td>0</td>\n",
       "      <td>0</td>\n",
       "      <td>0</td>\n",
       "      <td>0</td>\n",
       "      <td>0</td>\n",
       "      <td>1</td>\n",
       "    </tr>\n",
       "  </tbody>\n",
       "</table>\n",
       "<p>149900 rows × 499 columns</p>\n",
       "</div>"
      ],
      "text/plain": [
       "        Alachua  Altamonte Springs  Altha  Altoona  Alva  Alys Beach  \\\n",
       "0             1                  0      0        0     0           0   \n",
       "1             1                  0      0        0     0           0   \n",
       "2             1                  0      0        0     0           0   \n",
       "3             1                  0      0        0     0           0   \n",
       "4             1                  0      0        0     0           0   \n",
       "...         ...                ...    ...      ...   ...         ...   \n",
       "150077        0                  0      0        0     0           0   \n",
       "150078        0                  0      0        0     0           0   \n",
       "150079        0                  0      0        0     0           0   \n",
       "150080        0                  0      0        0     0           0   \n",
       "150081        0                  0      0        0     0           0   \n",
       "\n",
       "        Amelia Island  Anna Maria  Anthony  Apalachicola  ...  Winter Haven  \\\n",
       "0                   0           0        0             0  ...             0   \n",
       "1                   0           0        0             0  ...             0   \n",
       "2                   0           0        0             0  ...             0   \n",
       "3                   0           0        0             0  ...             0   \n",
       "4                   0           0        0             0  ...             0   \n",
       "...               ...         ...      ...           ...  ...           ...   \n",
       "150077              0           0        0             0  ...             0   \n",
       "150078              0           0        0             0  ...             0   \n",
       "150079              0           0        0             0  ...             0   \n",
       "150080              0           0        0             0  ...             0   \n",
       "150081              0           0        0             0  ...             0   \n",
       "\n",
       "        Winter Park  Winter Springs  Yalaha  Youngstown  Yulee  Zellwood  \\\n",
       "0                 0               0       0           0      0         0   \n",
       "1                 0               0       0           0      0         0   \n",
       "2                 0               0       0           0      0         0   \n",
       "3                 0               0       0           0      0         0   \n",
       "4                 0               0       0           0      0         0   \n",
       "...             ...             ...     ...         ...    ...       ...   \n",
       "150077            0               0       0           0      0         0   \n",
       "150078            0               0       0           0      0         0   \n",
       "150079            0               0       0           0      0         0   \n",
       "150080            0               0       0           0      0         0   \n",
       "150081            0               0       0           0      0         0   \n",
       "\n",
       "        Zephyrhills  Zolfo Springs  other  \n",
       "0                 0              0      0  \n",
       "1                 0              0      0  \n",
       "2                 0              0      0  \n",
       "3                 0              0      0  \n",
       "4                 0              0      0  \n",
       "...             ...            ...    ...  \n",
       "150077            0              0      1  \n",
       "150078            0              0      1  \n",
       "150079            0              0      1  \n",
       "150080            0              0      1  \n",
       "150081            0              0      1  \n",
       "\n",
       "[149900 rows x 499 columns]"
      ]
     },
     "execution_count": 112,
     "metadata": {},
     "output_type": "execute_result"
    }
   ],
   "source": [
    "# Create dummy variables for the 'city' column\n",
    "city_dummies = pd.get_dummies(re_df_cleaned6['city'])\n",
    "\n",
    "# Ensure the dummy variables are 0 and 1\n",
    "city_dummies = city_dummies.astype(int)\n",
    "\n",
    "# Print dummy variables\n",
    "city_dummies"
   ]
  },
  {
   "cell_type": "code",
   "execution_count": 113,
   "id": "458cc45c",
   "metadata": {},
   "outputs": [
    {
     "data": {
      "text/html": [
       "<div>\n",
       "<style scoped>\n",
       "    .dataframe tbody tr th:only-of-type {\n",
       "        vertical-align: middle;\n",
       "    }\n",
       "\n",
       "    .dataframe tbody tr th {\n",
       "        vertical-align: top;\n",
       "    }\n",
       "\n",
       "    .dataframe thead th {\n",
       "        text-align: right;\n",
       "    }\n",
       "</style>\n",
       "<table border=\"1\" class=\"dataframe\">\n",
       "  <thead>\n",
       "    <tr style=\"text-align: right;\">\n",
       "      <th></th>\n",
       "      <th>price</th>\n",
       "      <th>bed</th>\n",
       "      <th>bath</th>\n",
       "      <th>city</th>\n",
       "      <th>house_size</th>\n",
       "      <th>Alachua</th>\n",
       "      <th>Altamonte Springs</th>\n",
       "      <th>Altha</th>\n",
       "      <th>Altoona</th>\n",
       "      <th>Alva</th>\n",
       "      <th>...</th>\n",
       "      <th>Winter Garden</th>\n",
       "      <th>Winter Haven</th>\n",
       "      <th>Winter Park</th>\n",
       "      <th>Winter Springs</th>\n",
       "      <th>Yalaha</th>\n",
       "      <th>Youngstown</th>\n",
       "      <th>Yulee</th>\n",
       "      <th>Zellwood</th>\n",
       "      <th>Zephyrhills</th>\n",
       "      <th>Zolfo Springs</th>\n",
       "    </tr>\n",
       "  </thead>\n",
       "  <tbody>\n",
       "    <tr>\n",
       "      <th>0</th>\n",
       "      <td>399000.0</td>\n",
       "      <td>4.0</td>\n",
       "      <td>2.0</td>\n",
       "      <td>Alachua</td>\n",
       "      <td>1700.0</td>\n",
       "      <td>1</td>\n",
       "      <td>0</td>\n",
       "      <td>0</td>\n",
       "      <td>0</td>\n",
       "      <td>0</td>\n",
       "      <td>...</td>\n",
       "      <td>0</td>\n",
       "      <td>0</td>\n",
       "      <td>0</td>\n",
       "      <td>0</td>\n",
       "      <td>0</td>\n",
       "      <td>0</td>\n",
       "      <td>0</td>\n",
       "      <td>0</td>\n",
       "      <td>0</td>\n",
       "      <td>0</td>\n",
       "    </tr>\n",
       "    <tr>\n",
       "      <th>1</th>\n",
       "      <td>218000.0</td>\n",
       "      <td>3.0</td>\n",
       "      <td>2.0</td>\n",
       "      <td>Alachua</td>\n",
       "      <td>1512.0</td>\n",
       "      <td>1</td>\n",
       "      <td>0</td>\n",
       "      <td>0</td>\n",
       "      <td>0</td>\n",
       "      <td>0</td>\n",
       "      <td>...</td>\n",
       "      <td>0</td>\n",
       "      <td>0</td>\n",
       "      <td>0</td>\n",
       "      <td>0</td>\n",
       "      <td>0</td>\n",
       "      <td>0</td>\n",
       "      <td>0</td>\n",
       "      <td>0</td>\n",
       "      <td>0</td>\n",
       "      <td>0</td>\n",
       "    </tr>\n",
       "    <tr>\n",
       "      <th>2</th>\n",
       "      <td>244900.0</td>\n",
       "      <td>2.0</td>\n",
       "      <td>2.0</td>\n",
       "      <td>Alachua</td>\n",
       "      <td>1243.0</td>\n",
       "      <td>1</td>\n",
       "      <td>0</td>\n",
       "      <td>0</td>\n",
       "      <td>0</td>\n",
       "      <td>0</td>\n",
       "      <td>...</td>\n",
       "      <td>0</td>\n",
       "      <td>0</td>\n",
       "      <td>0</td>\n",
       "      <td>0</td>\n",
       "      <td>0</td>\n",
       "      <td>0</td>\n",
       "      <td>0</td>\n",
       "      <td>0</td>\n",
       "      <td>0</td>\n",
       "      <td>0</td>\n",
       "    </tr>\n",
       "  </tbody>\n",
       "</table>\n",
       "<p>3 rows × 503 columns</p>\n",
       "</div>"
      ],
      "text/plain": [
       "      price  bed  bath     city  house_size  Alachua  Altamonte Springs  \\\n",
       "0  399000.0  4.0   2.0  Alachua      1700.0        1                  0   \n",
       "1  218000.0  3.0   2.0  Alachua      1512.0        1                  0   \n",
       "2  244900.0  2.0   2.0  Alachua      1243.0        1                  0   \n",
       "\n",
       "   Altha  Altoona  Alva  ...  Winter Garden  Winter Haven  Winter Park  \\\n",
       "0      0        0     0  ...              0             0            0   \n",
       "1      0        0     0  ...              0             0            0   \n",
       "2      0        0     0  ...              0             0            0   \n",
       "\n",
       "   Winter Springs  Yalaha  Youngstown  Yulee  Zellwood  Zephyrhills  \\\n",
       "0               0       0           0      0         0            0   \n",
       "1               0       0           0      0         0            0   \n",
       "2               0       0           0      0         0            0   \n",
       "\n",
       "   Zolfo Springs  \n",
       "0              0  \n",
       "1              0  \n",
       "2              0  \n",
       "\n",
       "[3 rows x 503 columns]"
      ]
     },
     "execution_count": 113,
     "metadata": {},
     "output_type": "execute_result"
    }
   ],
   "source": [
    "# Dropping 'other' column\n",
    "re_df_cleaned7 = pd.concat([re_df_cleaned6,city_dummies.drop('other',axis='columns')],axis='columns')\n",
    "re_df_cleaned7.head(3)"
   ]
  },
  {
   "cell_type": "code",
   "execution_count": 114,
   "id": "96e9cb18",
   "metadata": {},
   "outputs": [
    {
     "data": {
      "text/html": [
       "<div>\n",
       "<style scoped>\n",
       "    .dataframe tbody tr th:only-of-type {\n",
       "        vertical-align: middle;\n",
       "    }\n",
       "\n",
       "    .dataframe tbody tr th {\n",
       "        vertical-align: top;\n",
       "    }\n",
       "\n",
       "    .dataframe thead th {\n",
       "        text-align: right;\n",
       "    }\n",
       "</style>\n",
       "<table border=\"1\" class=\"dataframe\">\n",
       "  <thead>\n",
       "    <tr style=\"text-align: right;\">\n",
       "      <th></th>\n",
       "      <th>price</th>\n",
       "      <th>bed</th>\n",
       "      <th>bath</th>\n",
       "      <th>house_size</th>\n",
       "      <th>Alachua</th>\n",
       "      <th>Altamonte Springs</th>\n",
       "      <th>Altha</th>\n",
       "      <th>Altoona</th>\n",
       "      <th>Alva</th>\n",
       "      <th>Alys Beach</th>\n",
       "      <th>...</th>\n",
       "      <th>Winter Garden</th>\n",
       "      <th>Winter Haven</th>\n",
       "      <th>Winter Park</th>\n",
       "      <th>Winter Springs</th>\n",
       "      <th>Yalaha</th>\n",
       "      <th>Youngstown</th>\n",
       "      <th>Yulee</th>\n",
       "      <th>Zellwood</th>\n",
       "      <th>Zephyrhills</th>\n",
       "      <th>Zolfo Springs</th>\n",
       "    </tr>\n",
       "  </thead>\n",
       "  <tbody>\n",
       "    <tr>\n",
       "      <th>0</th>\n",
       "      <td>399000.0</td>\n",
       "      <td>4.0</td>\n",
       "      <td>2.0</td>\n",
       "      <td>1700.0</td>\n",
       "      <td>1</td>\n",
       "      <td>0</td>\n",
       "      <td>0</td>\n",
       "      <td>0</td>\n",
       "      <td>0</td>\n",
       "      <td>0</td>\n",
       "      <td>...</td>\n",
       "      <td>0</td>\n",
       "      <td>0</td>\n",
       "      <td>0</td>\n",
       "      <td>0</td>\n",
       "      <td>0</td>\n",
       "      <td>0</td>\n",
       "      <td>0</td>\n",
       "      <td>0</td>\n",
       "      <td>0</td>\n",
       "      <td>0</td>\n",
       "    </tr>\n",
       "    <tr>\n",
       "      <th>1</th>\n",
       "      <td>218000.0</td>\n",
       "      <td>3.0</td>\n",
       "      <td>2.0</td>\n",
       "      <td>1512.0</td>\n",
       "      <td>1</td>\n",
       "      <td>0</td>\n",
       "      <td>0</td>\n",
       "      <td>0</td>\n",
       "      <td>0</td>\n",
       "      <td>0</td>\n",
       "      <td>...</td>\n",
       "      <td>0</td>\n",
       "      <td>0</td>\n",
       "      <td>0</td>\n",
       "      <td>0</td>\n",
       "      <td>0</td>\n",
       "      <td>0</td>\n",
       "      <td>0</td>\n",
       "      <td>0</td>\n",
       "      <td>0</td>\n",
       "      <td>0</td>\n",
       "    </tr>\n",
       "  </tbody>\n",
       "</table>\n",
       "<p>2 rows × 502 columns</p>\n",
       "</div>"
      ],
      "text/plain": [
       "      price  bed  bath  house_size  Alachua  Altamonte Springs  Altha  \\\n",
       "0  399000.0  4.0   2.0      1700.0        1                  0      0   \n",
       "1  218000.0  3.0   2.0      1512.0        1                  0      0   \n",
       "\n",
       "   Altoona  Alva  Alys Beach  ...  Winter Garden  Winter Haven  Winter Park  \\\n",
       "0        0     0           0  ...              0             0            0   \n",
       "1        0     0           0  ...              0             0            0   \n",
       "\n",
       "   Winter Springs  Yalaha  Youngstown  Yulee  Zellwood  Zephyrhills  \\\n",
       "0               0       0           0      0         0            0   \n",
       "1               0       0           0      0         0            0   \n",
       "\n",
       "   Zolfo Springs  \n",
       "0              0  \n",
       "1              0  \n",
       "\n",
       "[2 rows x 502 columns]"
      ]
     },
     "execution_count": 114,
     "metadata": {},
     "output_type": "execute_result"
    }
   ],
   "source": [
    "# Dropping city column\n",
    "re_df_cleaned8 = re_df_cleaned7.drop('city',axis='columns')\n",
    "re_df_cleaned8.head(2)"
   ]
  },
  {
   "cell_type": "code",
   "execution_count": 115,
   "id": "d7e40365",
   "metadata": {},
   "outputs": [
    {
     "data": {
      "text/plain": [
       "(149900, 502)"
      ]
     },
     "execution_count": 115,
     "metadata": {},
     "output_type": "execute_result"
    }
   ],
   "source": [
    "re_df_cleaned8.shape"
   ]
  },
  {
   "cell_type": "code",
   "execution_count": 116,
   "id": "3a3b301b",
   "metadata": {},
   "outputs": [
    {
     "data": {
      "text/html": [
       "<div>\n",
       "<style scoped>\n",
       "    .dataframe tbody tr th:only-of-type {\n",
       "        vertical-align: middle;\n",
       "    }\n",
       "\n",
       "    .dataframe tbody tr th {\n",
       "        vertical-align: top;\n",
       "    }\n",
       "\n",
       "    .dataframe thead th {\n",
       "        text-align: right;\n",
       "    }\n",
       "</style>\n",
       "<table border=\"1\" class=\"dataframe\">\n",
       "  <thead>\n",
       "    <tr style=\"text-align: right;\">\n",
       "      <th></th>\n",
       "      <th>bed</th>\n",
       "      <th>bath</th>\n",
       "      <th>house_size</th>\n",
       "      <th>Alachua</th>\n",
       "      <th>Altamonte Springs</th>\n",
       "      <th>Altha</th>\n",
       "      <th>Altoona</th>\n",
       "      <th>Alva</th>\n",
       "      <th>Alys Beach</th>\n",
       "      <th>Amelia Island</th>\n",
       "      <th>...</th>\n",
       "      <th>Winter Garden</th>\n",
       "      <th>Winter Haven</th>\n",
       "      <th>Winter Park</th>\n",
       "      <th>Winter Springs</th>\n",
       "      <th>Yalaha</th>\n",
       "      <th>Youngstown</th>\n",
       "      <th>Yulee</th>\n",
       "      <th>Zellwood</th>\n",
       "      <th>Zephyrhills</th>\n",
       "      <th>Zolfo Springs</th>\n",
       "    </tr>\n",
       "  </thead>\n",
       "  <tbody>\n",
       "    <tr>\n",
       "      <th>0</th>\n",
       "      <td>4.0</td>\n",
       "      <td>2.0</td>\n",
       "      <td>1700.0</td>\n",
       "      <td>1</td>\n",
       "      <td>0</td>\n",
       "      <td>0</td>\n",
       "      <td>0</td>\n",
       "      <td>0</td>\n",
       "      <td>0</td>\n",
       "      <td>0</td>\n",
       "      <td>...</td>\n",
       "      <td>0</td>\n",
       "      <td>0</td>\n",
       "      <td>0</td>\n",
       "      <td>0</td>\n",
       "      <td>0</td>\n",
       "      <td>0</td>\n",
       "      <td>0</td>\n",
       "      <td>0</td>\n",
       "      <td>0</td>\n",
       "      <td>0</td>\n",
       "    </tr>\n",
       "    <tr>\n",
       "      <th>1</th>\n",
       "      <td>3.0</td>\n",
       "      <td>2.0</td>\n",
       "      <td>1512.0</td>\n",
       "      <td>1</td>\n",
       "      <td>0</td>\n",
       "      <td>0</td>\n",
       "      <td>0</td>\n",
       "      <td>0</td>\n",
       "      <td>0</td>\n",
       "      <td>0</td>\n",
       "      <td>...</td>\n",
       "      <td>0</td>\n",
       "      <td>0</td>\n",
       "      <td>0</td>\n",
       "      <td>0</td>\n",
       "      <td>0</td>\n",
       "      <td>0</td>\n",
       "      <td>0</td>\n",
       "      <td>0</td>\n",
       "      <td>0</td>\n",
       "      <td>0</td>\n",
       "    </tr>\n",
       "    <tr>\n",
       "      <th>2</th>\n",
       "      <td>2.0</td>\n",
       "      <td>2.0</td>\n",
       "      <td>1243.0</td>\n",
       "      <td>1</td>\n",
       "      <td>0</td>\n",
       "      <td>0</td>\n",
       "      <td>0</td>\n",
       "      <td>0</td>\n",
       "      <td>0</td>\n",
       "      <td>0</td>\n",
       "      <td>...</td>\n",
       "      <td>0</td>\n",
       "      <td>0</td>\n",
       "      <td>0</td>\n",
       "      <td>0</td>\n",
       "      <td>0</td>\n",
       "      <td>0</td>\n",
       "      <td>0</td>\n",
       "      <td>0</td>\n",
       "      <td>0</td>\n",
       "      <td>0</td>\n",
       "    </tr>\n",
       "    <tr>\n",
       "      <th>3</th>\n",
       "      <td>3.0</td>\n",
       "      <td>2.0</td>\n",
       "      <td>1764.0</td>\n",
       "      <td>1</td>\n",
       "      <td>0</td>\n",
       "      <td>0</td>\n",
       "      <td>0</td>\n",
       "      <td>0</td>\n",
       "      <td>0</td>\n",
       "      <td>0</td>\n",
       "      <td>...</td>\n",
       "      <td>0</td>\n",
       "      <td>0</td>\n",
       "      <td>0</td>\n",
       "      <td>0</td>\n",
       "      <td>0</td>\n",
       "      <td>0</td>\n",
       "      <td>0</td>\n",
       "      <td>0</td>\n",
       "      <td>0</td>\n",
       "      <td>0</td>\n",
       "    </tr>\n",
       "    <tr>\n",
       "      <th>4</th>\n",
       "      <td>4.0</td>\n",
       "      <td>3.0</td>\n",
       "      <td>3018.0</td>\n",
       "      <td>1</td>\n",
       "      <td>0</td>\n",
       "      <td>0</td>\n",
       "      <td>0</td>\n",
       "      <td>0</td>\n",
       "      <td>0</td>\n",
       "      <td>0</td>\n",
       "      <td>...</td>\n",
       "      <td>0</td>\n",
       "      <td>0</td>\n",
       "      <td>0</td>\n",
       "      <td>0</td>\n",
       "      <td>0</td>\n",
       "      <td>0</td>\n",
       "      <td>0</td>\n",
       "      <td>0</td>\n",
       "      <td>0</td>\n",
       "      <td>0</td>\n",
       "    </tr>\n",
       "  </tbody>\n",
       "</table>\n",
       "<p>5 rows × 501 columns</p>\n",
       "</div>"
      ],
      "text/plain": [
       "   bed  bath  house_size  Alachua  Altamonte Springs  Altha  Altoona  Alva  \\\n",
       "0  4.0   2.0      1700.0        1                  0      0        0     0   \n",
       "1  3.0   2.0      1512.0        1                  0      0        0     0   \n",
       "2  2.0   2.0      1243.0        1                  0      0        0     0   \n",
       "3  3.0   2.0      1764.0        1                  0      0        0     0   \n",
       "4  4.0   3.0      3018.0        1                  0      0        0     0   \n",
       "\n",
       "   Alys Beach  Amelia Island  ...  Winter Garden  Winter Haven  Winter Park  \\\n",
       "0           0              0  ...              0             0            0   \n",
       "1           0              0  ...              0             0            0   \n",
       "2           0              0  ...              0             0            0   \n",
       "3           0              0  ...              0             0            0   \n",
       "4           0              0  ...              0             0            0   \n",
       "\n",
       "   Winter Springs  Yalaha  Youngstown  Yulee  Zellwood  Zephyrhills  \\\n",
       "0               0       0           0      0         0            0   \n",
       "1               0       0           0      0         0            0   \n",
       "2               0       0           0      0         0            0   \n",
       "3               0       0           0      0         0            0   \n",
       "4               0       0           0      0         0            0   \n",
       "\n",
       "   Zolfo Springs  \n",
       "0              0  \n",
       "1              0  \n",
       "2              0  \n",
       "3              0  \n",
       "4              0  \n",
       "\n",
       "[5 rows x 501 columns]"
      ]
     },
     "execution_count": 116,
     "metadata": {},
     "output_type": "execute_result"
    }
   ],
   "source": [
    "# Create x and y axis for the dataset\n",
    "x = re_df_cleaned8.drop('price',axis='columns')\n",
    "x.shape\n",
    "\n",
    "x.head()"
   ]
  },
  {
   "cell_type": "code",
   "execution_count": 117,
   "id": "e3529029",
   "metadata": {},
   "outputs": [
    {
     "data": {
      "text/plain": [
       "0    399000.0\n",
       "1    218000.0\n",
       "2    244900.0\n",
       "3    310000.0\n",
       "4    385000.0\n",
       "Name: price, dtype: float64"
      ]
     },
     "execution_count": 117,
     "metadata": {},
     "output_type": "execute_result"
    }
   ],
   "source": [
    "y = re_df_cleaned8.price\n",
    "y.shape\n",
    "y.head()"
   ]
  },
  {
   "cell_type": "code",
   "execution_count": 118,
   "id": "d9688a99",
   "metadata": {},
   "outputs": [],
   "source": [
    "# Import the train_test_split function from scikit-learn's model_selection module\n",
    "from sklearn.model_selection import train_test_split\n",
    "\n",
    "# Split the data into training and testing sets with 80% data used for training and 20% used for testing\n",
    "x_train, x_test, y_train, y_test = train_test_split(x,y,test_size=0.2,random_state=10)"
   ]
  },
  {
   "cell_type": "code",
   "execution_count": 119,
   "id": "a248697a",
   "metadata": {},
   "outputs": [
    {
     "data": {
      "text/plain": [
       "0.6334396983901706"
      ]
     },
     "execution_count": 119,
     "metadata": {},
     "output_type": "execute_result"
    }
   ],
   "source": [
    "# Import the LinearRegression class from scikit-learn's linear_model module\n",
    "from sklearn.linear_model import LinearRegression\n",
    "\n",
    "# Create an instance of the LinearRegression class, which represents the linear regression model\n",
    "lr_clf = LinearRegression()\n",
    "\n",
    "# Train the linear regression model using the training data\n",
    "lr_clf.fit(x_train,y_train)\n",
    "\n",
    "# Evaluate the model's performance using the testing data and return the coefficient of determination (R^2 score)\n",
    "lr_clf.score(x_test,y_test)"
   ]
  },
  {
   "cell_type": "code",
   "execution_count": 121,
   "id": "4617cf07",
   "metadata": {},
   "outputs": [
    {
     "name": "stdout",
     "output_type": "stream",
     "text": [
      "[0.6351094  0.6138305  0.63009966 0.6518481  0.61200279]\n"
     ]
    }
   ],
   "source": [
    "# Import necessary modules from scikit-learn\n",
    "from sklearn.model_selection import ShuffleSplit\n",
    "from sklearn.model_selection import cross_val_score\n",
    "from sklearn.linear_model import LinearRegression\n",
    "\n",
    "# Define the cross-validation strategy\n",
    "# ShuffleSplit will randomly split the data into training and test sets\n",
    "# n_splits=5 means the data will be split 5 times\n",
    "# test_size=0.2 means 20% of the data will be used as the test set in each split\n",
    "# random_state=0 ensures reproducibility of the splits\n",
    "cv = ShuffleSplit(n_splits=5, test_size=0.2, random_state=0)\n",
    "\n",
    "# Perform cross-validation using Linear Regression as the estimator\n",
    "# cross_val_score returns the accuracy scores for each split\n",
    "# x is the input features and y is the target variable\n",
    "scores = cross_val_score(LinearRegression(), x, y, cv=cv)\n",
    "\n",
    "# Print the cross-validation scores\n",
    "print(scores)"
   ]
  },
  {
   "cell_type": "code",
   "execution_count": 122,
   "id": "0ca75d77",
   "metadata": {},
   "outputs": [
    {
     "data": {
      "text/plain": [
       "Index(['bed', 'bath', 'house_size', 'Alachua', 'Altamonte Springs', 'Altha',\n",
       "       'Altoona', 'Alva', 'Alys Beach', 'Amelia Island',\n",
       "       ...\n",
       "       'Winter Garden', 'Winter Haven', 'Winter Park', 'Winter Springs',\n",
       "       'Yalaha', 'Youngstown', 'Yulee', 'Zellwood', 'Zephyrhills',\n",
       "       'Zolfo Springs'],\n",
       "      dtype='object', length=501)"
      ]
     },
     "execution_count": 122,
     "metadata": {},
     "output_type": "execute_result"
    }
   ],
   "source": [
    "x.columns"
   ]
  },
  {
   "cell_type": "code",
   "execution_count": 123,
   "id": "515315cb",
   "metadata": {},
   "outputs": [],
   "source": [
    "def predict_home_price(location, bed, bath, sqft):    \n",
    "    # Check if city exists in the columns\n",
    "    if location in x.columns:\n",
    "        loc_index = np.where(x.columns == location)[0][0]\n",
    "    else:\n",
    "        loc_index = -1  # Set to -1 if city is not found\n",
    "    \n",
    "    # Create a zero array of the same length as the number of columns in x\n",
    "    x1 = np.zeros(len(x.columns))\n",
    "    \n",
    "    # Assign the input features to the appropriate positions in the array\n",
    "    x1[0] = bed\n",
    "    x1[1] = bath\n",
    "    x1[2] = sqft\n",
    "    \n",
    "    # If the city is found, set its position to 1\n",
    "    if loc_index >= 0:\n",
    "        x1[loc_index] = 1\n",
    "    \n",
    "    # Reshape x1 to a 2D array (1 sample, many features)\n",
    "    x1 = x1.reshape(1, -1)\n",
    "    \n",
    "    # Return the predicted price using the trained model\n",
    "    return lr_clf.predict(x1)[0]\n"
   ]
  },
  {
   "cell_type": "code",
   "execution_count": 125,
   "id": "ea8cec45",
   "metadata": {},
   "outputs": [
    {
     "name": "stderr",
     "output_type": "stream",
     "text": [
      "C:\\Users\\ipsit\\anaconda3\\Lib\\site-packages\\sklearn\\base.py:464: UserWarning: X does not have valid feature names, but LinearRegression was fitted with feature names\n",
      "  warnings.warn(\n"
     ]
    },
    {
     "data": {
      "text/plain": [
       "369472.0188054888"
      ]
     },
     "execution_count": 125,
     "metadata": {},
     "output_type": "execute_result"
    }
   ],
   "source": [
    "# Check whether the model is working\n",
    "predict_home_price('Wimauma', 3, 2, 2000)"
   ]
  },
  {
   "cell_type": "markdown",
   "id": "830fd153",
   "metadata": {},
   "source": [
    "# Export the tested model to a pickle file"
   ]
  },
  {
   "cell_type": "code",
   "execution_count": 128,
   "id": "fae07f0a",
   "metadata": {},
   "outputs": [],
   "source": [
    "import pickle\n",
    "with open('./back-end/artifacts/florida_home_prices_model.pickle','wb') as f:\n",
    "    pickle.dump(lr_clf,f)"
   ]
  },
  {
   "cell_type": "markdown",
   "id": "6d5b4daa",
   "metadata": {},
   "source": [
    "# Export location and column information to a file that will be useful later on in our prediction application"
   ]
  },
  {
   "cell_type": "code",
   "execution_count": 129,
   "id": "05eaa426",
   "metadata": {},
   "outputs": [],
   "source": [
    "import json\n",
    "columns = {\n",
    "    'data_columns' : [col.lower() for col in x.columns]\n",
    "}\n",
    "with open(\"./back-end/artifacts/columns.json\",\"w\") as f:\n",
    "    f.write(json.dumps(columns))"
   ]
  },
  {
   "cell_type": "code",
   "execution_count": null,
   "id": "48254f4a",
   "metadata": {},
   "outputs": [],
   "source": []
  },
  {
   "cell_type": "code",
   "execution_count": null,
   "id": "1e325265",
   "metadata": {},
   "outputs": [],
   "source": []
  }
 ],
 "metadata": {
  "kernelspec": {
   "display_name": "Python 3 (ipykernel)",
   "language": "python",
   "name": "python3"
  },
  "language_info": {
   "codemirror_mode": {
    "name": "ipython",
    "version": 3
   },
   "file_extension": ".py",
   "mimetype": "text/x-python",
   "name": "python",
   "nbconvert_exporter": "python",
   "pygments_lexer": "ipython3",
   "version": "3.11.5"
  }
 },
 "nbformat": 4,
 "nbformat_minor": 5
}
